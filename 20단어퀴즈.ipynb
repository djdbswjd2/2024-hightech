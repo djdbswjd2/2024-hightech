{
  "nbformat": 4,
  "nbformat_minor": 0,
  "metadata": {
    "colab": {
      "provenance": [],
      "authorship_tag": "ABX9TyNHpQJjwUX6z8sfawbZo/3Q",
      "include_colab_link": true
    },
    "kernelspec": {
      "name": "python3",
      "display_name": "Python 3"
    },
    "language_info": {
      "name": "python"
    }
  },
  "cells": [
    {
      "cell_type": "markdown",
      "metadata": {
        "id": "view-in-github",
        "colab_type": "text"
      },
      "source": [
        "<a href=\"https://colab.research.google.com/github/djdbswjd2/2024-hightech/blob/main/20%EB%8B%A8%EC%96%B4%ED%80%B4%EC%A6%88.ipynb\" target=\"_parent\"><img src=\"https://colab.research.google.com/assets/colab-badge.svg\" alt=\"Open In Colab\"/></a>"
      ]
    },
    {
      "cell_type": "markdown",
      "source": [
        "1~20"
      ],
      "metadata": {
        "id": "pSYR55SRjW1x"
      }
    },
    {
      "cell_type": "code",
      "execution_count": null,
      "metadata": {
        "colab": {
          "base_uri": "https://localhost:8080/"
        },
        "id": "3KWqgSKqLR90",
        "outputId": "8e0b211b-d1d5-403c-81a2-0bfac7286157"
      },
      "outputs": [
        {
          "output_type": "stream",
          "name": "stdout",
          "text": [
            "revolution의 뜻은 무엇일까요? 혁명\n",
            "정답입니다!\n",
            "foundation의 뜻은 무엇일까요? 기초, 근거, 설립\n",
            "정답입니다!\n",
            "communication의 뜻은 무엇일까요? 의사소통, 전달\n",
            "정답입니다!\n",
            "communication의 뜻은 무엇일까요? 의사소통, 전달\n",
            "정답입니다!\n",
            "liberty의 뜻은 무엇일까요? 자유\n",
            "정답입니다!\n"
          ]
        }
      ],
      "source": [
        "import random\n",
        "\n",
        "dictionary = {\n",
        "    \"culture\": \"문화, 교양\",\n",
        "    \"experience\": \"경험, 경험하다\",\n",
        "    \"education\": \"교육\",\n",
        "    \"symbol\": \"상징\",\n",
        "    \"effect\": \"결과, 영향, 효과\",\n",
        "    \"liberty\": \"자유\",\n",
        "    \"affair\": \"사건, 일\",\n",
        "    \"comfort\": \"안락, 위안\",\n",
        "    \"tradition\": \"전통\",\n",
        "    \"subject\": \"학과, 주제, 주어\",\n",
        "    \"object\": \"물건, 목적, 반대하다\",\n",
        "    \"source\": \"출처, 근원\",\n",
        "    \"revolution\": \"혁명\",\n",
        "    \"pollution\": \"오염\",\n",
        "    \"system\": \"체계, 조직, 제도\",\n",
        "    \"triumph\": \"승리\",\n",
        "    \"respect\": \"존경, 존경하다\",\n",
        "    \"communication\": \"의사소통, 전달\",\n",
        "    \"foundation\": \"기초, 근거, 설립\",\n",
        "    \"glory\": \"영광\"\n",
        "}\n",
        "\n",
        "def quiz():\n",
        "    word, meaning = random.choice(list(dictionary.items()))\n",
        "\n",
        "    answer = input(f\"{word}의 뜻은 무엇일까요? \")\n",
        "\n",
        "    if answer == meaning:\n",
        "        print(\"정답입니다!\")\n",
        "    else:\n",
        "        print(f\"틀렸습니다. 정답은 {meaning}입니다.\")\n",
        "\n",
        "if __name__ == \"__main__\":\n",
        "    for i in range(5):\n",
        "        quiz()\n"
      ]
    },
    {
      "cell_type": "markdown",
      "source": [
        "21~40"
      ],
      "metadata": {
        "id": "M0Q6Hw5JjY6g"
      }
    },
    {
      "cell_type": "code",
      "source": [
        "import random\n",
        "\n",
        "dictionary = {\n",
        "    \"situation\": \"위치, 상황\",\n",
        "    \"competition\": \"경쟁\",\n",
        "    \"prairie\": \"대초원\",\n",
        "    \"effort\": \"노력\",\n",
        "    \"section\": \"부분, 구역\",\n",
        "    \"rein\": \"고삐\",\n",
        "    \"solution\": \"해결, 용해\",\n",
        "    \"hono(u)r\": \"명예, 경의, 존경하다\",\n",
        "    \"unity\": \"통일, 일치\",\n",
        "    \"population\": \"인구\",\n",
        "    \"direction\": \"방향, 지시\",\n",
        "    \"dialogue\": \"대화\",\n",
        "    \"republic\": \"공화국\",\n",
        "    \"method\": \"방법\",\n",
        "    \"increase\": \"증가, 증가하다\",\n",
        "    \"decrease\": \"감소, 감소하다\",\n",
        "    \"amount\": \"총액, 양, (총계) -이 되다\",\n",
        "    \"ancestor\": \"조상, 선조\",\n",
        "    \"voyage\": \"항해\",\n",
        "    \"sculpture\": \"조각(물)\"\n",
        "}\n",
        "\n",
        "def quiz():\n",
        "    word, meaning = random.choice(list(dictionary.items()))\n",
        "\n",
        "    answer = input(f\"{word}의 뜻은 무엇일까요? \")\n",
        "\n",
        "    if answer == meaning:\n",
        "        print(\"정답입니다!\")\n",
        "    else:\n",
        "        print(f\"틀렸습니다. 정답은 {meaning}입니다.\")\n",
        "\n",
        "if __name__ == \"__main__\":\n",
        "    for i in range(5):\n",
        "        quiz()"
      ],
      "metadata": {
        "colab": {
          "base_uri": "https://localhost:8080/"
        },
        "id": "q_d0NbExYVG2",
        "outputId": "89663583-b885-4e3f-f74e-37d2799b64f4"
      },
      "execution_count": null,
      "outputs": [
        {
          "output_type": "stream",
          "name": "stdout",
          "text": [
            "solution의 뜻은 무엇일까요? 조각(물)\n",
            "틀렸습니다. 정답은 해결, 용해입니다.\n",
            "effort의 뜻은 무엇일까요? 노력\n",
            "정답입니다!\n",
            "decrease의 뜻은 무엇일까요? 감소, 감소하다\n",
            "정답입니다!\n",
            "method의 뜻은 무엇일까요? 방법\n",
            "정답입니다!\n",
            "situation의 뜻은 무엇일까요? 위치, 상황\n",
            "정답입니다!\n"
          ]
        }
      ]
    },
    {
      "cell_type": "markdown",
      "source": [
        "41~60"
      ],
      "metadata": {
        "id": "QgOaIqZ1jayo"
      }
    },
    {
      "cell_type": "code",
      "source": [
        "import random\n",
        "\n",
        "dictionary = {\n",
        "    \"instrument\": \"도구\",\n",
        "    \"figure\": \"모습, 인물, 숫자\",\n",
        "    \"activity\": \"활동\",\n",
        "    \"cause\": \"원인, 이유, 일으키다, 야기하다\",\n",
        "    \"worth\": \"가치, -의 가치가 있는\",\n",
        "    \"accident\": \"사고, 뜻밖의 사건\",\n",
        "    \"adventure\": \"모험\",\n",
        "    \"view\": \"경치, 의견\",\n",
        "    \"relative\": \"친척, 관계있는, 상대적인\",\n",
        "    \"superstition\": \"미신\",\n",
        "    \"habit\": \"습관, 버릇\",\n",
        "    \"wealth\": \"재산, 부\",\n",
        "    \"treasure\": \"보물\",\n",
        "    \"universe\": \"우주, 전세계\",\n",
        "    \"adult\": \"성인\",\n",
        "    \"feast\": \"축제, 향연, 잔치\",\n",
        "    \"resource\": \"자원, 수단\",\n",
        "    \"ruin\": \"파멸, 폐허, 파멸시키다\",\n",
        "    \"monument\": \"기념비, 기념물\",\n",
        "    \"information\": \"정보\"\n",
        "}\n",
        "\n",
        "def quiz():\n",
        "    word, meaning = random.choice(list(dictionary.items()))\n",
        "\n",
        "    answer = input(f\"{word}의 뜻은 무엇일까요? \")\n",
        "\n",
        "    if answer == meaning:\n",
        "        print(\"정답입니다!\")\n",
        "    else:\n",
        "        print(f\"틀렸습니다. 정답은 {meaning}입니다.\")\n",
        "\n",
        "if __name__ == \"__main__\":\n",
        "    for i in range(5):\n",
        "        quiz()"
      ],
      "metadata": {
        "id": "XOUAC2QNiAhq"
      },
      "execution_count": null,
      "outputs": []
    },
    {
      "cell_type": "markdown",
      "source": [
        "61~80"
      ],
      "metadata": {
        "id": "b2W4oqoLjcrZ"
      }
    },
    {
      "cell_type": "code",
      "source": [
        "import random\n",
        "\n",
        "dictionary = {\n",
        "    \"appetite\": \"식욕\",\n",
        "    \"unification\": \"통일\",\n",
        "    \"mystery\": \"신비, 불가사의, 추리소설\",\n",
        "    \"thermometer\": \"온도계\",\n",
        "    \"burden\": \"짐, 무거운 짐, 짐을 지우다\",\n",
        "    \"series\": \"연속, 시리즈\",\n",
        "    \"oath\": \"맹세, 선서\",\n",
        "    \"appointment\": \"약속, 임명\",\n",
        "    \"clue\": \"실마리, 단서\",\n",
        "    \"debt\": \"부채, 빚, 은혜\",\n",
        "    \"hydrogen\": \"수소\",\n",
        "    \"control\": \"통제, 지배, 통제하다\",\n",
        "    \"uniform\": \"제복, 유니폼\",\n",
        "    \"design\": \"계획, 설계, 계획하다\",\n",
        "    \"damage\": \"손해, 손상\",\n",
        "    \"custom\": \"관습, 습관\",\n",
        "    \"traffic\": \"교통\",\n",
        "    \"sophomore\": \"2학년생\",\n",
        "    \"temperature\": \"온도, 체온\",\n",
        "    \"limit\": \"제한, 한계, 제한하다\"\n",
        "}\n",
        "\n",
        "def quiz():\n",
        "    word, meaning = random.choice(list(dictionary.items()))\n",
        "\n",
        "    answer = input(f\"{word}의 뜻은 무엇일까요? \")\n",
        "\n",
        "    if answer == meaning:\n",
        "        print(\"정답입니다!\")\n",
        "    else:\n",
        "        print(f\"틀렸습니다. 정답은 {meaning}입니다.\")\n",
        "\n",
        "if __name__ == \"__main__\":\n",
        "    for i in range(5):\n",
        "        quiz()"
      ],
      "metadata": {
        "id": "mfEEBn61jeE5"
      },
      "execution_count": null,
      "outputs": []
    },
    {
      "cell_type": "markdown",
      "source": [
        "81~100"
      ],
      "metadata": {
        "id": "8DrSHVg8kKwA"
      }
    },
    {
      "cell_type": "code",
      "source": [
        "import random\n",
        "\n",
        "dictionary = {\n",
        "    \"statue\": \"조각상\",\n",
        "    \"furniture\": \"가구\",\n",
        "    \"parade\": \"행렬\",\n",
        "    \"public\": \"공공의, 공중의, 공중\",\n",
        "    \"pilgrim\": \"순례자\",\n",
        "    \"greeting\": \"인사, 축하\",\n",
        "    \"language\": \"언어\",\n",
        "    \"opinion\": \"의견\",\n",
        "    \"athlete\": \"운동선수\",\n",
        "    \"supply\": \"공급, 공급하다\",\n",
        "    \"surface\": \"표면, 표면의\",\n",
        "    \"electricity\": \"전기\",\n",
        "    \"order\": \"순서, 질서, 명령, 주문, 명령하다\",\n",
        "    \"spirit\": \"정신, 영혼\",\n",
        "    \"purpose\": \"목적\",\n",
        "    \"promise\": \"약속, 가망, 약속하다\",\n",
        "    \"project\": \"계획\",\n",
        "    \"government\": \"정부\",\n",
        "    \"exercise\": \"운동, 연습, 연습하다\",\n",
        "    \"comparison\": \"비교\"\n",
        "}\n",
        "\n",
        "def quiz():\n",
        "    word, meaning = random.choice(list(dictionary.items()))\n",
        "\n",
        "    answer = input(f\"{word}의 뜻은 무엇일까요? \")\n",
        "\n",
        "    if answer == meaning:\n",
        "        print(\"정답입니다!\")\n",
        "    else:\n",
        "        print(f\"틀렸습니다. 정답은 {meaning}입니다.\")\n",
        "\n",
        "if __name__ == \"__main__\":\n",
        "    for i in range(5):\n",
        "        quiz()"
      ],
      "metadata": {
        "id": "vM_PYuVgkNx3"
      },
      "execution_count": null,
      "outputs": []
    },
    {
      "cell_type": "markdown",
      "source": [
        "101~120"
      ],
      "metadata": {
        "id": "rhwtSSu-k0Kq"
      }
    },
    {
      "cell_type": "code",
      "source": [
        "import random\n",
        "\n",
        "dictionary = {\n",
        "    \"interest\": \"관심, 이익, 흥미, 이자, 흥미를 갖게하다 \",\n",
        "    \"funeral\": \"장례식\",\n",
        "    \"senior\": \"선배, 연장자, 손위의\",\n",
        "    \"junior\": \"후배, 연소자, 손아래의 \",\n",
        "    \"democracy\": \"민주주의\",\n",
        "    \"general\": \"장군, 일반적인\",\n",
        "    \"admiral\": \"해군 대장, 제독 \",\n",
        "    \"edge\": \"날, 가장자리\",\n",
        "    \"biology\": \"생물학\",\n",
        "    \"danger\": \"위험\",\n",
        "    \"advice\": \"충고\",\n",
        "    \"practice\": \"연습, 실행\",\n",
        "    \"mammal\": \"포유동물\",\n",
        "    \"grade\": \"등급, 학년\",\n",
        "    \"score\": \"점수, 득점, 20\",\n",
        "    \"pause\": \"중지, 멈추다\",\n",
        "    \"pronunciation\": \"발음\",\n",
        "    \"stress\": \"압박, 강세, 강조하다\",\n",
        "    \"contest\": \"경쟁, 경기\",\n",
        "    \"horizon\": \"수평선, 지평선\"\n",
        "}\n",
        "\n",
        "def quiz():\n",
        "    word, meaning = random.choice(list(dictionary.items()))\n",
        "\n",
        "    answer = input(f\"{word}의 뜻은 무엇일까요? \")\n",
        "\n",
        "    if answer == meaning:\n",
        "        print(\"정답입니다!\")\n",
        "    else:\n",
        "        print(f\"틀렸습니다. 정답은 {meaning}입니다.\")\n",
        "\n",
        "if __name__ == \"__main__\":\n",
        "    for i in range(5):\n",
        "        quiz()"
      ],
      "metadata": {
        "id": "ph4aHQugk2mh"
      },
      "execution_count": null,
      "outputs": []
    },
    {
      "cell_type": "markdown",
      "source": [
        "121~140"
      ],
      "metadata": {
        "id": "B0sWJeqXlhBj"
      }
    },
    {
      "cell_type": "code",
      "source": [
        "import random\n",
        "\n",
        "dictionary = {\n",
        "    \"principal\": \"교장, 장, 주요한\",\n",
        "    \"might\": \"힘, may의 과거형\",\n",
        "    \"trouble\": \"근심, 고생, 괴롭히다\",\n",
        "    \"scar\": \"상처, 흔적\",\n",
        "    \"balance\": \"균형\",\n",
        "    \"proverb\": \"속담, 격언\",\n",
        "    \"semester\": \"학기\",\n",
        "    \"election\": \"선거\",\n",
        "    \"inning\": \"회, 이닝\",\n",
        "    \"hollow\": \"구멍, 우묵한 곳\",\n",
        "    \"degree\": \"정도, 학위\",\n",
        "    \"cemetery\": \"묘지\",\n",
        "    \"relay\": \"교대, 교대하다\",\n",
        "    \"spot\": \"장소, 현장 \",\n",
        "    \"exchange\": \"교환, 교환하다\",\n",
        "    \"merchant\": \"상인\",\n",
        "    \"saying\": \"격언\",\n",
        "    \"refrigerator\": \"냉장고\",\n",
        "    \"crack\": \"갈라진 금, 틈, 금가게 하다\",\n",
        "    \"judge\": \"재판관, 심판관, 재판하다\"\n",
        "}\n",
        "\n",
        "def quiz():\n",
        "    word, meaning = random.choice(list(dictionary.items()))\n",
        "\n",
        "    answer = input(f\"{word}의 뜻은 무엇일까요? \")\n",
        "\n",
        "    if answer == meaning:\n",
        "        print(\"정답입니다!\")\n",
        "    else:\n",
        "        print(f\"틀렸습니다. 정답은 {meaning}입니다.\")\n",
        "\n",
        "if __name__ == \"__main__\":\n",
        "    for i in range(5):\n",
        "        quiz()"
      ],
      "metadata": {
        "id": "fkUj_J5climp"
      },
      "execution_count": null,
      "outputs": []
    },
    {
      "cell_type": "markdown",
      "source": [
        "141~160"
      ],
      "metadata": {
        "id": "DTnE_l4UmH9I"
      }
    },
    {
      "cell_type": "code",
      "source": [
        "import random\n",
        "\n",
        "dictionary = {\n",
        "    \"slave\": \"노예\",\n",
        "    \"settler\": \"이주민, 정착민\",\n",
        "    \"fare\": \"요금, 운임\",\n",
        "    \"gesture\": \"몸짓, 손짓\",\n",
        "    \"planet\": \"행성\",\n",
        "    \"type\": \"유형, 활자, 타이프를 치다\",\n",
        "    \"secretary\": \"비서\",\n",
        "    \"devil\": \"악마\",\n",
        "    \"scholar\": \"학자\",\n",
        "    \"pardon\": \"용서, 용서하다\",\n",
        "    \"kindergarten\": \"유치원\",\n",
        "    \"detective\": \"탐정, 탐정의\",\n",
        "    \"license\": \"면허(증)\",\n",
        "    \"palace\": \"궁전\",\n",
        "    \"spade\": \"삽\",\n",
        "    \"square\": \"정사각형, 광장\",\n",
        "    \"fountain-pen\": \"만년필\",\n",
        "    \"harvest\": \"수확, 추수\",\n",
        "    \"tool\": \"도구\",\n",
        "    \"sword\": \"검, 칼\"\n",
        "}\n",
        "\n",
        "def quiz():\n",
        "    word, meaning = random.choice(list(dictionary.items()))\n",
        "\n",
        "    answer = input(f\"{word}의 뜻은 무엇일까요? \")\n",
        "\n",
        "    if answer == meaning:\n",
        "        print(\"정답입니다!\")\n",
        "    else:\n",
        "        print(f\"틀렸습니다. 정답은 {meaning}입니다.\")\n",
        "\n",
        "if __name__ == \"__main__\":\n",
        "    for i in range(5):\n",
        "        quiz()"
      ],
      "metadata": {
        "id": "K8piVjbkmJeg"
      },
      "execution_count": null,
      "outputs": []
    },
    {
      "cell_type": "markdown",
      "source": [
        "161~180"
      ],
      "metadata": {
        "id": "qMcUbg7Bn5mx"
      }
    },
    {
      "cell_type": "code",
      "source": [
        "import random\n",
        "\n",
        "dictionary = {\n",
        "    \"magazine\": \"잡지\",\n",
        "    \"stadium\": \"경기장\",\n",
        "    \"care\": \"걱정, 조심\",\n",
        "    \"beauty\": \"아름다움, 미인\",\n",
        "    \"museum\": \"박물관\",\n",
        "    \"sentence\": \"문장\",\n",
        "    \"memory\": \"기억, 기억력\",\n",
        "    \"delight\": \"기쁨\",\n",
        "    \"passenger\": \"승객\",\n",
        "    \"skill\": \"솜씨, 기술\",\n",
        "    \"journey\": \"여행\",\n",
        "    \"ceremony\": \"의식\",\n",
        "    \"hobby\": \"취미\",\n",
        "    \"president\": \"대통령, 사장, 회장\",\n",
        "    \"address\": \"주소, 연설\",\n",
        "    \"continent\": \"대륙\",\n",
        "    \"mankind\": \"인류, 인간\",\n",
        "    \"patient\": \"환자, 참을성 있는\",\n",
        "    \"site\": \"부지, 위치, 장소\",\n",
        "    \"marble\": \"대리석\"\n",
        "}\n",
        "\n",
        "def quiz():\n",
        "    word, meaning = random.choice(list(dictionary.items()))\n",
        "\n",
        "    answer = input(f\"{word}의 뜻은 무엇일까요? \")\n",
        "\n",
        "    if answer == meaning:\n",
        "        print(\"정답입니다!\")\n",
        "    else:\n",
        "        print(f\"틀렸습니다. 정답은 {meaning}입니다.\")\n",
        "\n",
        "if __name__ == \"__main__\":\n",
        "    for i in range(5):\n",
        "        quiz()"
      ],
      "metadata": {
        "id": "lcXtfoNzn8bh"
      },
      "execution_count": null,
      "outputs": []
    },
    {
      "cell_type": "markdown",
      "source": [
        "181~200"
      ],
      "metadata": {
        "id": "FdLRKRZcorfx"
      }
    },
    {
      "cell_type": "code",
      "source": [
        "import random\n",
        "\n",
        "dictionary = {\n",
        "    \"stem\": \"줄기\",\n",
        "    \"slip\": \"미끄러지다, 미끄러짐, 실수\",\n",
        "    \"torch\": \"횃불\",\n",
        "    \"composer\": \"작곡자\",\n",
        "    \"invader\": \"침입자\",\n",
        "    \"trick\": \"계략, 속임수\",\n",
        "    \"flight\": \"비행\",\n",
        "    \"castle\": \"성\",\n",
        "    \"envelope\": \"봉투\",\n",
        "    \"pal\": \"친구\",\n",
        "    \"vacation\": \"휴가\",\n",
        "    \"desert\": \"사막\",\n",
        "    \"event\": \"사건, 행사\",\n",
        "    \"theater\": \"극장\",\n",
        "    \"stage\": \"단계, 무대\",\n",
        "    \"error\": \"실수, 잘못\",\n",
        "    \"area\": \"지역\",\n",
        "    \"base\": \"기초, 토대\",\n",
        "    \"basement\": \"지하실\",\n",
        "    \"evil\": \"악, 나쁜\"\n",
        "}\n",
        "\n",
        "def quiz():\n",
        "    word, meaning = random.choice(list(dictionary.items()))\n",
        "\n",
        "    answer = input(f\"{word}의 뜻은 무엇일까요? \")\n",
        "\n",
        "    if answer == meaning:\n",
        "        print(\"정답입니다!\")\n",
        "    else:\n",
        "        print(f\"틀렸습니다. 정답은 {meaning}입니다.\")\n",
        "\n",
        "if __name__ == \"__main__\":\n",
        "    for i in range(5):\n",
        "        quiz()"
      ],
      "metadata": {
        "id": "39gsuotAos7B"
      },
      "execution_count": null,
      "outputs": []
    },
    {
      "cell_type": "markdown",
      "source": [
        "201~220"
      ],
      "metadata": {
        "id": "vnSNzRnfpv5C"
      }
    },
    {
      "cell_type": "code",
      "source": [
        "import random\n",
        "\n",
        "dictionary = {\n",
        "    \"atom\": \"원자\",\n",
        "    \"poet\": \"시인\",\n",
        "    \"petal\": \"꽃잎\",\n",
        "    \"chance\": \"기회\",\n",
        "    \"mind\": \"마음, 꺼려하다\",\n",
        "    \"climate\": \"기후\",\n",
        "    \"suburb\": \"교외\",\n",
        "    \"throat\": \"목구멍\",\n",
        "    \"voice\": \"목소리\",\n",
        "    \"valley\": \"계곡\",\n",
        "    \"Puritan\": \"청교도, 청교도의\",\n",
        "    \"feather\": \"깃털\",\n",
        "    \"amateur\": \"아마추어, 비전문가\",\n",
        "    \"nation\": \"국가\",\n",
        "    \"puzzle\": \"수수께끼, 당황하게 하다\",\n",
        "    \"riddle\": \"수수께끼\",\n",
        "    \"rear\": \"뒤쪽, 기르다\",\n",
        "    \"battle\": \"전투, 싸움\",\n",
        "    \"laundry\": \"세탁소\",\n",
        "    \"shower\": \"소나기, 샤워\"\n",
        "}\n",
        "\n",
        "def quiz():\n",
        "    word, meaning = random.choice(list(dictionary.items()))\n",
        "\n",
        "    answer = input(f\"{word}의 뜻은 무엇일까요? \")\n",
        "\n",
        "    if answer == meaning:\n",
        "        print(\"정답입니다!\")\n",
        "    else:\n",
        "        print(f\"틀렸습니다. 정답은 {meaning}입니다.\")\n",
        "\n",
        "if __name__ == \"__main__\":\n",
        "    for i in range(5):\n",
        "        quiz()"
      ],
      "metadata": {
        "id": "Erhqayalpxyx"
      },
      "execution_count": null,
      "outputs": []
    },
    {
      "cell_type": "markdown",
      "source": [
        "221~240"
      ],
      "metadata": {
        "id": "h2YG4xaFqVVy"
      }
    },
    {
      "cell_type": "code",
      "source": [
        "import random\n",
        "\n",
        "dictionary = {\n",
        "    \"navy\": \"해군\",\n",
        "    \"Mars\": \"화성\",\n",
        "    \"gallery\": \"화랑, 미술관\",\n",
        "    \"guest\": \"손님\",\n",
        "    \"folk\": \"사람들\",\n",
        "    \"problem\": \"문제\",\n",
        "    \"jewel\": \"보석\",\n",
        "    \"garage\": \"차고\",\n",
        "    \"fault\": \"결점, 잘못\",\n",
        "    \"lantern\": \"랜턴, 초롱불\",\n",
        "    \"import\": \"수입, 수입하다\",\n",
        "    \"angle\": \"각도, 관점\",\n",
        "    \"match\": \"시합, -에 어울리다\",\n",
        "    \"stripe\": \"줄무늬\",\n",
        "    \"pulse\": \"맥박\",\n",
        "    \"powder\": \"가루, 화약\",\n",
        "    \"flood\": \"홍수, 넘쳐 흐르다\",\n",
        "    \"bush\": \"수풀, 덤불\",\n",
        "    \"branch\": \"가지, 지점\",\n",
        "    \"hero\": \"영웅, 주인공\"\n",
        "}\n",
        "\n",
        "def quiz():\n",
        "    word, meaning = random.choice(list(dictionary.items()))\n",
        "\n",
        "    answer = input(f\"{word}의 뜻은 무엇일까요? \")\n",
        "\n",
        "    if answer == meaning:\n",
        "        print(\"정답입니다!\")\n",
        "    else:\n",
        "        print(f\"틀렸습니다. 정답은 {meaning}입니다.\")\n",
        "\n",
        "if __name__ == \"__main__\":\n",
        "    for i in range(5):\n",
        "        quiz()"
      ],
      "metadata": {
        "id": "cT0U5-CIqXJh"
      },
      "execution_count": null,
      "outputs": []
    }
  ]
}