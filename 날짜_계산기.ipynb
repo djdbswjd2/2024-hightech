{
  "nbformat": 4,
  "nbformat_minor": 0,
  "metadata": {
    "colab": {
      "provenance": [],
      "authorship_tag": "ABX9TyNb40L7mgUnuKCovf9V22Vl",
      "include_colab_link": true
    },
    "kernelspec": {
      "name": "python3",
      "display_name": "Python 3"
    },
    "language_info": {
      "name": "python"
    }
  },
  "cells": [
    {
      "cell_type": "markdown",
      "metadata": {
        "id": "view-in-github",
        "colab_type": "text"
      },
      "source": [
        "<a href=\"https://colab.research.google.com/github/djdbswjd2/2024-hightech/blob/main/%EB%82%A0%EC%A7%9C_%EA%B3%84%EC%82%B0%EA%B8%B0.ipynb\" target=\"_parent\"><img src=\"https://colab.research.google.com/assets/colab-badge.svg\" alt=\"Open In Colab\"/></a>"
      ]
    },
    {
      "cell_type": "code",
      "execution_count": 3,
      "metadata": {
        "colab": {
          "base_uri": "https://localhost:8080/"
        },
        "id": "FDaGevoTXxAc",
        "outputId": "82bfc13a-c752-48ab-d91e-1b580c297324"
      },
      "outputs": [
        {
          "output_type": "stream",
          "name": "stdout",
          "text": [
            "날짜 계산기 프로그램입니다.\n",
            "연도, 월, 일을 차례로 입력하세요.\n",
            "연도: 2003\n",
            "월: 5\n",
            "일: 24\n",
            "입력한 날짜는 2003년 05월 24일 입니다.\n",
            "이 날짜에서 몇 일을 더하거나 빼시겠습니까?\n",
            "일 수: 7300\n",
            "7300 일을 더하거나 빼면, 2023년 05월 19일 입니다.\n"
          ]
        }
      ],
      "source": [
        "import datetime\n",
        "\n",
        "print(\"날짜 계산기 프로그램입니다.\")\n",
        "print(\"연도, 월, 일을 차례로 입력하세요.\")\n",
        "year = int(input(\"연도: \"))\n",
        "month = int(input(\"월: \"))\n",
        "day = int(input(\"일: \"))\n",
        "\n",
        "given_date = datetime.date(year, month, day)\n",
        "\n",
        "print(\"입력한 날짜는\", given_date.strftime(\"%Y년 %m월 %d일\"), \"입니다.\")\n",
        "print(\"이 날짜에서 몇 일을 더하거나 빼시겠습니까?\")\n",
        "days_diff = int(input(\"일 수: \"))\n",
        "\n",
        "result_date = given_date + datetime.timedelta(days=days_diff)\n",
        "\n",
        "print(days_diff, \"일을 더하거나 빼면,\", result_date.strftime(\"%Y년 %m월 %d일\"), \"입니다.\")"
      ]
    },
    {
      "cell_type": "code",
      "source": [
        "import datetime\n",
        "\n",
        "print(\"기준 날짜부터 오늘까지 몇일이 지났는지 계산하는 프로그램입니다.\")\n",
        "print(\"연도, 월, 일을 차례로 입력하세요.\")\n",
        "year = int(input(\"연도: \"))\n",
        "month = int(input(\"월: \"))\n",
        "day = int(input(\"일: \"))\n",
        "\n",
        "start_date = datetime.date(year, month, day)\n",
        "end_date = datetime.date.today()\n",
        "\n",
        "days_diff = (end_date - start_date).days\n",
        "\n",
        "print(start_date.strftime(\"%Y년 %m월 %d일\"), \"부터 오늘까지\", days_diff, \"일이 지났습니다.\")"
      ],
      "metadata": {
        "colab": {
          "base_uri": "https://localhost:8080/"
        },
        "id": "4n8OS82ypETj",
        "outputId": "a486e628-bb86-495a-a20d-1ecec807e6f4"
      },
      "execution_count": 4,
      "outputs": [
        {
          "output_type": "stream",
          "name": "stdout",
          "text": [
            "기준 날짜부터 오늘까지 몇일이 지났는지 계산하는 프로그램입니다.\n",
            "연도, 월, 일을 차례로 입력하세요.\n",
            "연도: 2003\n",
            "월: 5\n",
            "일: 2\n",
            "2003년 05월 02일 부터 오늘까지 7657 일이 지났습니다.\n"
          ]
        }
      ]
    },
    {
      "cell_type": "markdown",
      "source": [
        "tk로 인해 에러가 났음"
      ],
      "metadata": {
        "id": "SxFxyvOwr6kJ"
      }
    },
    {
      "cell_type": "code",
      "source": [
        "import tkinter as tk\n",
        "import datetime\n",
        "\n",
        "def calculate_days():\n",
        "  start_date = datetime.date(int(year_entry.get()), int(month_entry.get()))\n",
        "  end_date = datetime.date.today()\n",
        "  days_diff = (end_date - start_date).days\n",
        "  result_label.config(text=f\"{start_date.strftime('%Y년 %m월 %d일')}부터 오늘까지 {days_diff}일이 지났습니다.\")\n",
        "\n",
        "root = tk.Tk()\n",
        "root.title(\"날짜 계산기\")\n",
        "\n",
        "year_label = tk.Label(root, text=\"연도\")\n",
        "year_label.grid(row=0, column=0)\n",
        "year_entry = tk.Entry(root)\n",
        "year_entry.grid(row=0, column=1)\n",
        "\n",
        "month_lavel = tk.Label(root, text='월')\n",
        "month_lavel.grid(row=1, column=0)\n",
        "month_entry = tk.Entry(root)\n",
        "month_entry.grid(row=1, column=1)\n",
        "\n",
        "day_label = tk.Label(root, text=\"일\")\n",
        "day_label.grid(row=2, column=0)\n",
        "day_entry = tk.Entry(root)\n",
        "day_entry.grid(row=2, column=1)\n",
        "\n",
        "calculate_button = tk.Button(root, text=\"계산\", command=calculate_days)\n",
        "calculate_button.grid(row=3, column=0, columnspan=2)\n",
        "\n",
        "result_label = tk.Label(root, text=\"\")\n",
        "result_label.grid(row=4, column=0, columnspan=2)\n",
        "\n",
        "root.mainloop()"
      ],
      "metadata": {
        "colab": {
          "base_uri": "https://localhost:8080/",
          "height": 349
        },
        "id": "k5wmaEq8p2sK",
        "outputId": "176248bb-640f-4915-eadc-9158b3fc9af9"
      },
      "execution_count": 7,
      "outputs": [
        {
          "output_type": "error",
          "ename": "TclError",
          "evalue": "no display name and no $DISPLAY environment variable",
          "traceback": [
            "\u001b[0;31m---------------------------------------------------------------------------\u001b[0m",
            "\u001b[0;31mTclError\u001b[0m                                  Traceback (most recent call last)",
            "\u001b[0;32m<ipython-input-7-47d5b92cf835>\u001b[0m in \u001b[0;36m<cell line: 10>\u001b[0;34m()\u001b[0m\n\u001b[1;32m      8\u001b[0m   \u001b[0mresult_label\u001b[0m\u001b[0;34m.\u001b[0m\u001b[0mconfig\u001b[0m\u001b[0;34m(\u001b[0m\u001b[0mtext\u001b[0m\u001b[0;34m=\u001b[0m\u001b[0;34mf\"{start_date.strftime('%Y년 %m월 %d일')}부터 오늘까지 {days_diff}일이 지났습니다.\"\u001b[0m\u001b[0;34m)\u001b[0m\u001b[0;34m\u001b[0m\u001b[0;34m\u001b[0m\u001b[0m\n\u001b[1;32m      9\u001b[0m \u001b[0;34m\u001b[0m\u001b[0m\n\u001b[0;32m---> 10\u001b[0;31m \u001b[0mroot\u001b[0m \u001b[0;34m=\u001b[0m \u001b[0mtk\u001b[0m\u001b[0;34m.\u001b[0m\u001b[0mTk\u001b[0m\u001b[0;34m(\u001b[0m\u001b[0;34m)\u001b[0m\u001b[0;34m\u001b[0m\u001b[0;34m\u001b[0m\u001b[0m\n\u001b[0m\u001b[1;32m     11\u001b[0m \u001b[0mroot\u001b[0m\u001b[0;34m.\u001b[0m\u001b[0mtitle\u001b[0m\u001b[0;34m(\u001b[0m\u001b[0;34m\"날짜 계산기\"\u001b[0m\u001b[0;34m)\u001b[0m\u001b[0;34m\u001b[0m\u001b[0;34m\u001b[0m\u001b[0m\n\u001b[1;32m     12\u001b[0m \u001b[0;34m\u001b[0m\u001b[0m\n",
            "\u001b[0;32m/usr/lib/python3.10/tkinter/__init__.py\u001b[0m in \u001b[0;36m__init__\u001b[0;34m(self, screenName, baseName, className, useTk, sync, use)\u001b[0m\n\u001b[1;32m   2297\u001b[0m                 \u001b[0mbaseName\u001b[0m \u001b[0;34m=\u001b[0m \u001b[0mbaseName\u001b[0m \u001b[0;34m+\u001b[0m \u001b[0mext\u001b[0m\u001b[0;34m\u001b[0m\u001b[0;34m\u001b[0m\u001b[0m\n\u001b[1;32m   2298\u001b[0m         \u001b[0minteractive\u001b[0m \u001b[0;34m=\u001b[0m \u001b[0;32mFalse\u001b[0m\u001b[0;34m\u001b[0m\u001b[0;34m\u001b[0m\u001b[0m\n\u001b[0;32m-> 2299\u001b[0;31m         \u001b[0mself\u001b[0m\u001b[0;34m.\u001b[0m\u001b[0mtk\u001b[0m \u001b[0;34m=\u001b[0m \u001b[0m_tkinter\u001b[0m\u001b[0;34m.\u001b[0m\u001b[0mcreate\u001b[0m\u001b[0;34m(\u001b[0m\u001b[0mscreenName\u001b[0m\u001b[0;34m,\u001b[0m \u001b[0mbaseName\u001b[0m\u001b[0;34m,\u001b[0m \u001b[0mclassName\u001b[0m\u001b[0;34m,\u001b[0m \u001b[0minteractive\u001b[0m\u001b[0;34m,\u001b[0m \u001b[0mwantobjects\u001b[0m\u001b[0;34m,\u001b[0m \u001b[0museTk\u001b[0m\u001b[0;34m,\u001b[0m \u001b[0msync\u001b[0m\u001b[0;34m,\u001b[0m \u001b[0muse\u001b[0m\u001b[0;34m)\u001b[0m\u001b[0;34m\u001b[0m\u001b[0;34m\u001b[0m\u001b[0m\n\u001b[0m\u001b[1;32m   2300\u001b[0m         \u001b[0;32mif\u001b[0m \u001b[0museTk\u001b[0m\u001b[0;34m:\u001b[0m\u001b[0;34m\u001b[0m\u001b[0;34m\u001b[0m\u001b[0m\n\u001b[1;32m   2301\u001b[0m             \u001b[0mself\u001b[0m\u001b[0;34m.\u001b[0m\u001b[0m_loadtk\u001b[0m\u001b[0;34m(\u001b[0m\u001b[0;34m)\u001b[0m\u001b[0;34m\u001b[0m\u001b[0;34m\u001b[0m\u001b[0m\n",
            "\u001b[0;31mTclError\u001b[0m: no display name and no $DISPLAY environment variable"
          ]
        }
      ]
    }
  ]
}