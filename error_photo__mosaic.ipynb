{
  "nbformat": 4,
  "nbformat_minor": 0,
  "metadata": {
    "colab": {
      "provenance": [],
      "authorship_tag": "ABX9TyOVppv300HEXDuDX3nh3yb3",
      "include_colab_link": true
    },
    "kernelspec": {
      "name": "python3",
      "display_name": "Python 3"
    },
    "language_info": {
      "name": "python"
    }
  },
  "cells": [
    {
      "cell_type": "markdown",
      "metadata": {
        "id": "view-in-github",
        "colab_type": "text"
      },
      "source": [
        "<a href=\"https://colab.research.google.com/github/djdbswjd2/2024-hightech/blob/main/error_photo__mosaic.ipynb\" target=\"_parent\"><img src=\"https://colab.research.google.com/assets/colab-badge.svg\" alt=\"Open In Colab\"/></a>"
      ]
    },
    {
      "cell_type": "code",
      "execution_count": 1,
      "metadata": {
        "colab": {
          "base_uri": "https://localhost:8080/"
        },
        "id": "B9yDD6m1GLe0",
        "outputId": "0fbb2266-27ef-4aee-ca1e-c8d248a107d5"
      },
      "outputs": [
        {
          "output_type": "stream",
          "name": "stdout",
          "text": [
            "Requirement already satisfied: opencv-python in /usr/local/lib/python3.10/dist-packages (4.8.0.76)\n",
            "Requirement already satisfied: numpy>=1.21.2 in /usr/local/lib/python3.10/dist-packages (from opencv-python) (1.25.2)\n"
          ]
        }
      ],
      "source": [
        "!pip install opencv-python"
      ]
    },
    {
      "cell_type": "markdown",
      "source": [
        "전부 에러 뜸, 이유 파악불가"
      ],
      "metadata": {
        "id": "q8hYOo1VK72s"
      }
    },
    {
      "cell_type": "code",
      "source": [
        "import cv2\n",
        "import numpy as np\n",
        "\n",
        "import os\n",
        "os.chdir(os.path.dirname(os.path.abspath(__file__)))\n",
        "\n",
        "# 이미지 불러오기\n",
        "image = cv2.imread('photo.jpg')\n",
        "\n",
        "# 얼굴 인식을 위한 분류기 불러오기\n",
        "face_cascade = cv2.CascadeClassifier(cv2.data.haarcascades + 'haarcascade_frontalface_default.xml')\n",
        "\n",
        "# 그레이 스케일로 변환\n",
        "gray = cv2.cvtColor(image, cv2.COLOR_BGR2GRAY)\n",
        "\n",
        "# 얼굴 검출\n",
        "faces = face_cascade.detectMultiScale(gray, 1.3, 5)\n",
        "\n",
        "# 검출된 얼굴 모자이크 처리\n",
        "for (x,y,w,h) in faces:\n",
        "    # 얼굴 부분을 추출하여 모자이크 처리\n",
        "    face_roi = image[y:y+h, x:x+w]\n",
        "    face_roi = cv2.resize(face_roi, (50, 50))\n",
        "    face_roi = cv2.resize(face_roi, (w, h), interpolation=cv2.INTER_AREA)\n",
        "    image[y:y+h, x:x+w] = face_roi\n",
        "\n",
        "# 결과 이미지 출력\n",
        "cv2.imshow('image', image)\n",
        "cv2.waitKey(0)\n",
        "cv2.destroyAllWindows()\n",
        "\n",
        "import cv2\n",
        "import numpy as np\n",
        "\n",
        "import os\n",
        "os.chdir(os.path.dirname(os.path.abspath(__file__)))\n",
        "\n",
        "\n",
        "# 현재 디렉토리 내 모든 파일 검색\n",
        "for filename in os.listdir('.'):\n",
        "    if filename.endswith('.jpg') or filename.endswith('.png'):\n",
        "        # 이미지 파일 불러오기\n",
        "        image = cv2.imread(filename)\n",
        "\n",
        "        # 얼굴 인식을 위한 분류기 불러오기\n",
        "        face_cascade = cv2.CascadeClassifier(cv2.data.haarcascades + 'haarcascade_frontalface_default.xml')\n",
        "\n",
        "        # 그레이 스케일로 변환\n",
        "        gray = cv2.cvtColor(image, cv2.COLOR_BGR2GRAY)\n",
        "\n",
        "        # 얼굴 검출\n",
        "        faces = face_cascade.detectMultiScale(gray, 1.3, 5)\n",
        "\n",
        "        # 검출된 얼굴 모자이크 처리\n",
        "        for (x, y, w, h) in faces:\n",
        "            # 얼굴 부분을 추출하여 모자이크 처리\n",
        "            face_roi = image[y:y+h, x:x+w]\n",
        "            face_roi = cv2.resize(face_roi, (50, 50))\n",
        "            face_roi = cv2.resize(face_roi, (w, h), interpolation=cv2.INTER_AREA)\n",
        "            image[y:y+h, x:x+w] = face_roi\n",
        "\n",
        "        # 수정된 파일 저장\n",
        "        modified_filename = 'modify_' + filename\n",
        "        cv2.imwrite(modified_filename, image)\n"
      ],
      "metadata": {
        "colab": {
          "base_uri": "https://localhost:8080/",
          "height": 220
        },
        "id": "hpJdUyfiGPy8",
        "outputId": "a9d07650-df93-429f-a06d-ac4ce73c527a"
      },
      "execution_count": 12,
      "outputs": [
        {
          "output_type": "error",
          "ename": "NameError",
          "evalue": "name '__file__' is not defined",
          "traceback": [
            "\u001b[0;31m---------------------------------------------------------------------------\u001b[0m",
            "\u001b[0;31mNameError\u001b[0m                                 Traceback (most recent call last)",
            "\u001b[0;32m<ipython-input-12-99755f32107e>\u001b[0m in \u001b[0;36m<cell line: 5>\u001b[0;34m()\u001b[0m\n\u001b[1;32m      3\u001b[0m \u001b[0;34m\u001b[0m\u001b[0m\n\u001b[1;32m      4\u001b[0m \u001b[0;32mimport\u001b[0m \u001b[0mos\u001b[0m\u001b[0;34m\u001b[0m\u001b[0;34m\u001b[0m\u001b[0m\n\u001b[0;32m----> 5\u001b[0;31m \u001b[0mos\u001b[0m\u001b[0;34m.\u001b[0m\u001b[0mchdir\u001b[0m\u001b[0;34m(\u001b[0m\u001b[0mos\u001b[0m\u001b[0;34m.\u001b[0m\u001b[0mpath\u001b[0m\u001b[0;34m.\u001b[0m\u001b[0mdirname\u001b[0m\u001b[0;34m(\u001b[0m\u001b[0mos\u001b[0m\u001b[0;34m.\u001b[0m\u001b[0mpath\u001b[0m\u001b[0;34m.\u001b[0m\u001b[0mabspath\u001b[0m\u001b[0;34m(\u001b[0m\u001b[0m__file__\u001b[0m\u001b[0;34m)\u001b[0m\u001b[0;34m)\u001b[0m\u001b[0;34m)\u001b[0m\u001b[0;34m\u001b[0m\u001b[0;34m\u001b[0m\u001b[0m\n\u001b[0m\u001b[1;32m      6\u001b[0m \u001b[0;34m\u001b[0m\u001b[0m\n\u001b[1;32m      7\u001b[0m \u001b[0;31m# 이미지 불러오기\u001b[0m\u001b[0;34m\u001b[0m\u001b[0;34m\u001b[0m\u001b[0m\n",
            "\u001b[0;31mNameError\u001b[0m: name '__file__' is not defined"
          ]
        }
      ]
    }
  ]
}