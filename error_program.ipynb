{
  "nbformat": 4,
  "nbformat_minor": 0,
  "metadata": {
    "colab": {
      "provenance": [],
      "authorship_tag": "ABX9TyN3DPVH0poz2ZjKfbcWgqfg",
      "include_colab_link": true
    },
    "kernelspec": {
      "name": "python3",
      "display_name": "Python 3"
    },
    "language_info": {
      "name": "python"
    }
  },
  "cells": [
    {
      "cell_type": "markdown",
      "metadata": {
        "id": "view-in-github",
        "colab_type": "text"
      },
      "source": [
        "<a href=\"https://colab.research.google.com/github/djdbswjd2/2024-hightech/blob/main/error_program.ipynb\" target=\"_parent\"><img src=\"https://colab.research.google.com/assets/colab-badge.svg\" alt=\"Open In Colab\"/></a>"
      ]
    },
    {
      "cell_type": "code",
      "source": [
        "!pip install win10toast"
      ],
      "metadata": {
        "colab": {
          "base_uri": "https://localhost:8080/"
        },
        "id": "fAsZ3qdEPqh6",
        "outputId": "f6286b6b-db57-47be-ed87-be76d86c0be6"
      },
      "execution_count": 3,
      "outputs": [
        {
          "output_type": "stream",
          "name": "stdout",
          "text": [
            "Collecting win10toast\n",
            "  Downloading win10toast-0.9-py2.py3-none-any.whl (21 kB)\n",
            "Collecting pypiwin32 (from win10toast)\n",
            "  Downloading pypiwin32-223-py3-none-any.whl (1.7 kB)\n",
            "Requirement already satisfied: setuptools in /usr/local/lib/python3.10/dist-packages (from win10toast) (67.7.2)\n",
            "INFO: pip is looking at multiple versions of pypiwin32 to determine which version is compatible with other requirements. This could take a while.\n",
            "  Downloading pypiwin32-219.zip (4.8 MB)\n",
            "\u001b[2K     \u001b[90m━━━━━━━━━━━━━━━━━━━━━━━━━━━━━━━━━━━━━━━━\u001b[0m \u001b[32m4.8/4.8 MB\u001b[0m \u001b[31m19.4 MB/s\u001b[0m eta \u001b[36m0:00:00\u001b[0m\n",
            "\u001b[?25h  \u001b[1;31merror\u001b[0m: \u001b[1msubprocess-exited-with-error\u001b[0m\n",
            "  \n",
            "  \u001b[31m×\u001b[0m \u001b[32mpython setup.py egg_info\u001b[0m did not run successfully.\n",
            "  \u001b[31m│\u001b[0m exit code: \u001b[1;36m1\u001b[0m\n",
            "  \u001b[31m╰─>\u001b[0m See above for output.\n",
            "  \n",
            "  \u001b[1;35mnote\u001b[0m: This error originates from a subprocess, and is likely not a problem with pip.\n",
            "  Preparing metadata (setup.py) ... \u001b[?25l\u001b[?25herror\n",
            "\u001b[1;31merror\u001b[0m: \u001b[1mmetadata-generation-failed\u001b[0m\n",
            "\n",
            "\u001b[31m×\u001b[0m Encountered error while generating package metadata.\n",
            "\u001b[31m╰─>\u001b[0m See above for output.\n",
            "\n",
            "\u001b[1;35mnote\u001b[0m: This is an issue with the package mentioned above, not pip.\n",
            "\u001b[1;36mhint\u001b[0m: See above for details.\n"
          ]
        }
      ]
    },
    {
      "cell_type": "code",
      "execution_count": 5,
      "metadata": {
        "colab": {
          "base_uri": "https://localhost:8080/",
          "height": 110
        },
        "id": "yzgk5lYIPOSI",
        "outputId": "b443bc6f-8a7b-458c-c41b-5cf33ff5a0e9"
      },
      "outputs": [
        {
          "output_type": "error",
          "ename": "SyntaxError",
          "evalue": "invalid syntax (<ipython-input-5-a26b749a204e>, line 1)",
          "traceback": [
            "\u001b[0;36m  File \u001b[0;32m\"<ipython-input-5-a26b749a204e>\"\u001b[0;36m, line \u001b[0;32m1\u001b[0m\n\u001b[0;31m    from win10toast\u001b[0m\n\u001b[0m                    ^\u001b[0m\n\u001b[0;31mSyntaxError\u001b[0m\u001b[0;31m:\u001b[0m invalid syntax\n"
          ]
        }
      ],
      "source": [
        "from win10toast\n",
        "import ToastNotifier\n",
        "\n",
        "toaster = ToastNotifier()\n",
        "toaster.show_toast(\"제목\", \"내용\")\n",
        "\n",
        "from datetime import datetime, timedelta\n",
        "from win10toast import ToastNotifier\n",
        "import time\n",
        "\n",
        "toaster = ToastNotifier()\n",
        "\n",
        "while True:\n",
        "    now = datetime.now()\n",
        "    if now.weekday() in [0, 2, 4] and now.hour == 9 and now.minute == 50:\n",
        "        # 다음 회의 시작 시간 계산\n",
        "        next_meeting_time = now + timedelta(minutes=10)\n",
        "        next_meeting_time_str = next_meeting_time.strftime(\"%Y-%m-%d %H:%M:%S\")\n",
        "\n",
        "        # 알림 표시\n",
        "        toaster.show_toast(\"알림\", f\"{next_meeting_time_str}에 회의가 시작됩니다.\", duration=10)\n",
        "\n",
        "    # 1초마다 반복\n",
        "    time.sleep(1)"
      ]
    },
    {
      "cell_type": "markdown",
      "source": [
        "위에 에러 뜸. 아래에도 에러 뜸."
      ],
      "metadata": {
        "id": "Vqv_16PXPZby"
      }
    }
  ]
}