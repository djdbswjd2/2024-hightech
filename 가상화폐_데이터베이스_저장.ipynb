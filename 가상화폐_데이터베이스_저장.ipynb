{
  "nbformat": 4,
  "nbformat_minor": 0,
  "metadata": {
    "colab": {
      "provenance": [],
      "authorship_tag": "ABX9TyNlllyZi9XqP+NbgO8jsq+V",
      "include_colab_link": true
    },
    "kernelspec": {
      "name": "python3",
      "display_name": "Python 3"
    },
    "language_info": {
      "name": "python"
    }
  },
  "cells": [
    {
      "cell_type": "markdown",
      "metadata": {
        "id": "view-in-github",
        "colab_type": "text"
      },
      "source": [
        "<a href=\"https://colab.research.google.com/github/djdbswjd2/2024-hightech/blob/main/%EA%B0%80%EC%83%81%ED%99%94%ED%8F%90_%EB%8D%B0%EC%9D%B4%ED%84%B0%EB%B2%A0%EC%9D%B4%EC%8A%A4_%EC%A0%80%EC%9E%A5.ipynb\" target=\"_parent\"><img src=\"https://colab.research.google.com/assets/colab-badge.svg\" alt=\"Open In Colab\"/></a>"
      ]
    },
    {
      "cell_type": "code",
      "execution_count": 1,
      "metadata": {
        "colab": {
          "base_uri": "https://localhost:8080/"
        },
        "id": "s6Q30S4BvXb_",
        "outputId": "72f20851-bacc-422a-ea41-e7179b59e373"
      },
      "outputs": [
        {
          "output_type": "stream",
          "name": "stdout",
          "text": [
            "Collecting pyupbit\n",
            "  Downloading pyupbit-0.2.33-py3-none-any.whl (24 kB)\n",
            "Requirement already satisfied: pyjwt>=2.0.0 in /usr/lib/python3/dist-packages (from pyupbit) (2.3.0)\n",
            "Requirement already satisfied: pandas in /usr/local/lib/python3.10/dist-packages (from pyupbit) (2.0.3)\n",
            "Requirement already satisfied: requests in /usr/local/lib/python3.10/dist-packages (from pyupbit) (2.31.0)\n",
            "Collecting websockets (from pyupbit)\n",
            "  Downloading websockets-12.0-cp310-cp310-manylinux_2_5_x86_64.manylinux1_x86_64.manylinux_2_17_x86_64.manylinux2014_x86_64.whl (130 kB)\n",
            "\u001b[2K     \u001b[90m━━━━━━━━━━━━━━━━━━━━━━━━━━━━━━━━━━━━━━━━\u001b[0m \u001b[32m130.2/130.2 kB\u001b[0m \u001b[31m1.6 MB/s\u001b[0m eta \u001b[36m0:00:00\u001b[0m\n",
            "\u001b[?25hRequirement already satisfied: python-dateutil>=2.8.2 in /usr/local/lib/python3.10/dist-packages (from pandas->pyupbit) (2.8.2)\n",
            "Requirement already satisfied: pytz>=2020.1 in /usr/local/lib/python3.10/dist-packages (from pandas->pyupbit) (2023.4)\n",
            "Requirement already satisfied: tzdata>=2022.1 in /usr/local/lib/python3.10/dist-packages (from pandas->pyupbit) (2024.1)\n",
            "Requirement already satisfied: numpy>=1.21.0 in /usr/local/lib/python3.10/dist-packages (from pandas->pyupbit) (1.25.2)\n",
            "Requirement already satisfied: charset-normalizer<4,>=2 in /usr/local/lib/python3.10/dist-packages (from requests->pyupbit) (3.3.2)\n",
            "Requirement already satisfied: idna<4,>=2.5 in /usr/local/lib/python3.10/dist-packages (from requests->pyupbit) (3.6)\n",
            "Requirement already satisfied: urllib3<3,>=1.21.1 in /usr/local/lib/python3.10/dist-packages (from requests->pyupbit) (2.0.7)\n",
            "Requirement already satisfied: certifi>=2017.4.17 in /usr/local/lib/python3.10/dist-packages (from requests->pyupbit) (2024.2.2)\n",
            "Requirement already satisfied: six>=1.5 in /usr/local/lib/python3.10/dist-packages (from python-dateutil>=2.8.2->pandas->pyupbit) (1.16.0)\n",
            "Installing collected packages: websockets, pyupbit\n",
            "Successfully installed pyupbit-0.2.33 websockets-12.0\n"
          ]
        }
      ],
      "source": [
        "!pip install pyupbit"
      ]
    },
    {
      "cell_type": "code",
      "source": [
        "import pyupbit\n",
        "import sqlite3\n",
        "import datetime\n",
        "\n",
        "conn = sqlite3.connect(r'경로\\upbit.db')\n",
        "cur = conn.cursor()\n",
        "\n",
        "cur.execute(\"CREATE TABLE IF NOT EXISTS BTC_KRW (time TEXT, price INTEGER)\")\n",
        "\n",
        "price = pyupbit.get_current_price(\"KRW-BTC\")\n",
        "now = datetime.datetime.now()\n",
        "\n",
        "print(now, price)\n",
        "\n",
        "cur.execute(\"INSERT INTO BTC_KRW (time, price) VALUES (?, ?)\", (now, price))\n",
        "conn.commit()\n",
        "\n",
        "conn.close()"
      ],
      "metadata": {
        "colab": {
          "base_uri": "https://localhost:8080/"
        },
        "id": "9_iEoor5vlcC",
        "outputId": "980e7a0a-a13a-4af2-86e0-64634ac155d6"
      },
      "execution_count": 4,
      "outputs": [
        {
          "output_type": "stream",
          "name": "stdout",
          "text": [
            "2024-04-18 05:53:58.783525 90835000.0\n"
          ]
        }
      ]
    },
    {
      "cell_type": "code",
      "source": [
        "import pyupbit\n",
        "import sqlite3\n",
        "import datetime\n",
        "import time\n",
        "\n",
        "conn = sqlite3.connect(r'경로\\upbit.db')\n",
        "cur = conn.cursor()\n",
        "\n",
        "cur.execute(\"CREATE TABLE IF NOT EXISTS BTC_KRW (time TEXT, price INTEGER)\")"
      ],
      "metadata": {
        "colab": {
          "base_uri": "https://localhost:8080/"
        },
        "id": "B4MUN-KJxO8F",
        "outputId": "146bc420-ad40-41c8-e781-c8291b6206af"
      },
      "execution_count": 5,
      "outputs": [
        {
          "output_type": "execute_result",
          "data": {
            "text/plain": [
              "<sqlite3.Cursor at 0x7bd5d42089c0>"
            ]
          },
          "metadata": {},
          "execution_count": 5
        }
      ]
    },
    {
      "cell_type": "code",
      "source": [
        "while True:\n",
        "  try:\n",
        "    price = pyupbit.get_current_price(\"KRW-BTC\")\n",
        "    now = datetime.datetime.now()\n",
        "\n",
        "    print(now, price)\n",
        "\n",
        "    cur.execute(\"INSERT INTO BTC_KRW (time, price) VALUES (?, ?)\", (now, price))\n",
        "    conn.commit()\n",
        "\n",
        "    time.sleep(10)\n",
        "\n",
        "  except Exception as e:\n",
        "    print(e)\n",
        "    time.sleep(1)\n",
        "\n",
        "conn.close()"
      ],
      "metadata": {
        "colab": {
          "base_uri": "https://localhost:8080/",
          "height": 609
        },
        "id": "EcLYYXk3xi0c",
        "outputId": "9e9526b2-ac19-496a-bc63-a96278771025"
      },
      "execution_count": 7,
      "outputs": [
        {
          "output_type": "stream",
          "name": "stdout",
          "text": [
            "2024-04-18 05:58:25.600480 90585000.0\n",
            "2024-04-18 05:58:36.324108 90581000.0\n",
            "2024-04-18 05:58:47.084845 90577000.0\n",
            "2024-04-18 05:58:57.798420 90548000.0\n",
            "2024-04-18 05:59:08.522439 90500000.0\n",
            "2024-04-18 05:59:19.333909 90500000.0\n",
            "2024-04-18 05:59:30.068236 90501000.0\n",
            "2024-04-18 05:59:40.796161 90501000.0\n",
            "2024-04-18 05:59:51.589442 90496000.0\n",
            "2024-04-18 06:00:02.308411 90495000.0\n",
            "2024-04-18 06:00:13.054386 90652000.0\n",
            "2024-04-18 06:00:23.877913 90795000.0\n",
            "2024-04-18 06:00:34.588094 90811000.0\n",
            "2024-04-18 06:00:45.344819 90727000.0\n",
            "2024-04-18 06:00:56.117134 90733000.0\n",
            "2024-04-18 06:01:06.849325 90768000.0\n",
            "2024-04-18 06:01:17.567133 90768000.0\n",
            "2024-04-18 06:01:28.522559 90777000.0\n",
            "2024-04-18 06:01:39.279235 90777000.0\n",
            "2024-04-18 06:01:50.006733 90764000.0\n",
            "2024-04-18 06:02:00.750483 90756000.0\n"
          ]
        },
        {
          "output_type": "error",
          "ename": "KeyboardInterrupt",
          "evalue": "",
          "traceback": [
            "\u001b[0;31m---------------------------------------------------------------------------\u001b[0m",
            "\u001b[0;31mKeyboardInterrupt\u001b[0m                         Traceback (most recent call last)",
            "\u001b[0;32m<ipython-input-7-6c204badb8bb>\u001b[0m in \u001b[0;36m<cell line: 1>\u001b[0;34m()\u001b[0m\n\u001b[1;32m      9\u001b[0m     \u001b[0mconn\u001b[0m\u001b[0;34m.\u001b[0m\u001b[0mcommit\u001b[0m\u001b[0;34m(\u001b[0m\u001b[0;34m)\u001b[0m\u001b[0;34m\u001b[0m\u001b[0;34m\u001b[0m\u001b[0m\n\u001b[1;32m     10\u001b[0m \u001b[0;34m\u001b[0m\u001b[0m\n\u001b[0;32m---> 11\u001b[0;31m     \u001b[0mtime\u001b[0m\u001b[0;34m.\u001b[0m\u001b[0msleep\u001b[0m\u001b[0;34m(\u001b[0m\u001b[0;36m10\u001b[0m\u001b[0;34m)\u001b[0m\u001b[0;34m\u001b[0m\u001b[0;34m\u001b[0m\u001b[0m\n\u001b[0m\u001b[1;32m     12\u001b[0m \u001b[0;34m\u001b[0m\u001b[0m\n\u001b[1;32m     13\u001b[0m   \u001b[0;32mexcept\u001b[0m \u001b[0mException\u001b[0m \u001b[0;32mas\u001b[0m \u001b[0me\u001b[0m\u001b[0;34m:\u001b[0m\u001b[0;34m\u001b[0m\u001b[0;34m\u001b[0m\u001b[0m\n",
            "\u001b[0;31mKeyboardInterrupt\u001b[0m: "
          ]
        }
      ]
    },
    {
      "cell_type": "code",
      "source": [
        "import sqlite3\n",
        "\n",
        "conn = sqlite3.connect(r'경로\\upbit.db')\n",
        "cur = conn.cursor()\n",
        "\n",
        "cur.execute(\"SELECT * FROM BTC_KRW\")\n",
        "rows = cur.fetchall()\n",
        "\n",
        "for row in rows:\n",
        "  print(row)\n",
        "\n",
        "conn.close()"
      ],
      "metadata": {
        "colab": {
          "base_uri": "https://localhost:8080/"
        },
        "id": "_opu4vUTyuFB",
        "outputId": "9544fb35-9c0b-4717-bd2d-3fbd1aa9a692"
      },
      "execution_count": 8,
      "outputs": [
        {
          "output_type": "stream",
          "name": "stdout",
          "text": [
            "('2024-04-18 05:53:49.623830', 90856000)\n",
            "('2024-04-18 05:53:58.783525', 90835000)\n",
            "('2024-04-18 05:57:35.494498', 90691000)\n",
            "('2024-04-18 05:57:46.226394', 90660000)\n",
            "('2024-04-18 05:57:56.942985', 90626000)\n",
            "('2024-04-18 05:58:07.732668', 90600000)\n",
            "('2024-04-18 05:58:25.600480', 90585000)\n",
            "('2024-04-18 05:58:36.324108', 90581000)\n",
            "('2024-04-18 05:58:47.084845', 90577000)\n",
            "('2024-04-18 05:58:57.798420', 90548000)\n",
            "('2024-04-18 05:59:08.522439', 90500000)\n",
            "('2024-04-18 05:59:19.333909', 90500000)\n",
            "('2024-04-18 05:59:30.068236', 90501000)\n",
            "('2024-04-18 05:59:40.796161', 90501000)\n",
            "('2024-04-18 05:59:51.589442', 90496000)\n",
            "('2024-04-18 06:00:02.308411', 90495000)\n",
            "('2024-04-18 06:00:13.054386', 90652000)\n",
            "('2024-04-18 06:00:23.877913', 90795000)\n",
            "('2024-04-18 06:00:34.588094', 90811000)\n",
            "('2024-04-18 06:00:45.344819', 90727000)\n",
            "('2024-04-18 06:00:56.117134', 90733000)\n",
            "('2024-04-18 06:01:06.849325', 90768000)\n",
            "('2024-04-18 06:01:17.567133', 90768000)\n",
            "('2024-04-18 06:01:28.522559', 90777000)\n",
            "('2024-04-18 06:01:39.279235', 90777000)\n",
            "('2024-04-18 06:01:50.006733', 90764000)\n",
            "('2024-04-18 06:02:00.750483', 90756000)\n"
          ]
        }
      ]
    }
  ]
}