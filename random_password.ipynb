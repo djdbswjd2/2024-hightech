{
  "nbformat": 4,
  "nbformat_minor": 0,
  "metadata": {
    "colab": {
      "provenance": [],
      "authorship_tag": "ABX9TyPmRnh1y6j114DXhZijTcVh",
      "include_colab_link": true
    },
    "kernelspec": {
      "name": "python3",
      "display_name": "Python 3"
    },
    "language_info": {
      "name": "python"
    }
  },
  "cells": [
    {
      "cell_type": "markdown",
      "metadata": {
        "id": "view-in-github",
        "colab_type": "text"
      },
      "source": [
        "<a href=\"https://colab.research.google.com/github/djdbswjd2/2024-hightech/blob/main/random_password.ipynb\" target=\"_parent\"><img src=\"https://colab.research.google.com/assets/colab-badge.svg\" alt=\"Open In Colab\"/></a>"
      ]
    },
    {
      "cell_type": "code",
      "execution_count": 1,
      "metadata": {
        "colab": {
          "base_uri": "https://localhost:8080/"
        },
        "id": "eeHXMSRONexL",
        "outputId": "f889ae7b-8a6c-43ff-8182-a3709495d0e2"
      },
      "outputs": [
        {
          "output_type": "stream",
          "name": "stdout",
          "text": [
            "생성된 패스워드:  \"o/X\\3j1Y'UF\n"
          ]
        }
      ],
      "source": [
        "import random\n",
        "import string\n",
        "\n",
        "def generate_password():\n",
        "    # 문자, 숫자, 특수문자를 모두 포함한 길이 12의 패스워드 생성\n",
        "    characters = string.ascii_letters + string.digits + string.punctuation\n",
        "    password = ''.join(random.choice(characters) for i in range(12))\n",
        "    return password\n",
        "\n",
        "# 패스워드 생성 함수 호출\n",
        "password = generate_password()\n",
        "\n",
        "print(\"생성된 패스워드: \", password)"
      ]
    },
    {
      "cell_type": "markdown",
      "source": [
        "아래 에러 뜸."
      ],
      "metadata": {
        "id": "xoS5XDLUN4sB"
      }
    },
    {
      "cell_type": "code",
      "source": [
        "import random\n",
        "import string\n",
        "import sys\n",
        "from PyQt5.QtWidgets\n",
        "import QApplication, QWidget, QLabel, QLineEdit, QCheckBox, QPushButton, QVBoxLayout\n",
        "\n",
        "class PasswordGenerator(QWidget):\n",
        "    def __init__(self):\n",
        "        super().__init__()\n",
        "\n",
        "        # 기본값 설정\n",
        "        self.password_length = 12\n",
        "        self.include_uppercase = True\n",
        "        self.include_lowercase = True\n",
        "        self.include_numbers = True\n",
        "        self.include_special_characters = True\n",
        "\n",
        "        # UI 구성\n",
        "        self.title_label = QLabel(\"패스워드 생성기\")\n",
        "        self.password_label = QLabel(\"생성된 패스워드: \")\n",
        "        self.password_textbox = QLineEdit()\n",
        "        self.length_label = QLabel(\"패스워드 길이: \")\n",
        "        self.length_textbox = QLineEdit(str(self.password_length))\n",
        "        self.uppercase_checkbox = QCheckBox(\"대문자 포함\")\n",
        "        self.uppercase_checkbox.setChecked(self.include_uppercase)\n",
        "        self.lowercase_checkbox = QCheckBox(\"소문자 포함\")\n",
        "        self.lowercase_checkbox.setChecked(self.include_lowercase)\n",
        "        self.numbers_checkbox = QCheckBox(\"숫자 포함\")\n",
        "        self.numbers_checkbox.setChecked(self.include_numbers)\n",
        "        self.special_checkbox = QCheckBox(\"특수문자 포함\")\n",
        "        self.special_checkbox.setChecked(self.include_special_characters)\n",
        "        self.generate_button = QPushButton(\"패스워드 생성\")\n",
        "\n",
        "        # UI 레이아웃 설정\n",
        "        vbox = QVBoxLayout()\n",
        "        vbox.addWidget(self.title_label)\n",
        "        vbox.addWidget(self.password_label)\n",
        "        vbox.addWidget(self.password_textbox)\n",
        "        vbox.addWidget(self.length_label)\n",
        "        vbox.addWidget(self.length_textbox)\n",
        "        vbox.addWidget(self.uppercase_checkbox)\n",
        "        vbox.addWidget(self.lowercase_checkbox)\n",
        "        vbox.addWidget(self.numbers_checkbox)\n",
        "        vbox.addWidget(self.special_checkbox)\n",
        "        vbox.addWidget(self.generate_button)\n",
        "        self.setLayout(vbox)\n",
        "\n",
        "        # 이벤트 처리 함수 등록\n",
        "        self.generate_button.clicked.connect(self.generate_password)\n",
        "        self.length_textbox.textChanged.connect(self.update_length)\n",
        "        self.uppercase_checkbox.stateChanged.connect(self.update_uppercase)\n",
        "        self.lowercase_checkbox.stateChanged.connect(self.update_lowercase)\n",
        "        self.numbers_checkbox.stateChanged.connect(self.update_numbers)\n",
        "        self.special_checkbox.stateChanged.connect(self.update_special)\n",
        "\n",
        "        # 초기 패스워드 생성\n",
        "        self.generate_password()\n",
        "\n",
        "        # 윈도우 설정\n",
        "        self.setGeometry(100, 100, 300, 200)\n",
        "        self.setWindowTitle(\"패스워드 생성기\")\n",
        "        self.show()\n",
        "\n",
        "    def generate_password(self):\n",
        "        # 사용자 설정에 따른 패스워드 생성\n",
        "        characters = ''\n",
        "        if self.include_uppercase:\n",
        "            characters += string.ascii_uppercase\n",
        "        if self.include_lowercase:\n",
        "            characters += string.ascii_lowercase\n",
        "        if self.include_numbers:\n",
        "            characters += string.digits\n",
        "        if self.include_special_characters:\n",
        "            characters += string.punctuation\n",
        "        password = ''.join(random.choice(characters) for i in range(self.password_length))\n",
        "        self.password_textbox.setText(password)\n",
        "\n",
        "    def update_length(self, text):\n",
        "        # 패스워드 길이 변경\n",
        "        try:\n",
        "            self.password_length = int(text)\n",
        "            self.generate_password()\n",
        "        except ValueError:\n",
        "            pass\n",
        "\n",
        "    def update_uppercase(self, state):\n",
        "        # 대문자 포함 여부 변경\n",
        "        self.include_uppercase = bool(state)\n",
        "        self.generate_password()\n",
        "\n",
        "    def update_lowercase(self, state):\n",
        "        # 소문자 포함 여부 변경\n",
        "        self.include_lowercase = bool(state)\n",
        "        self.generate_password()\n",
        "\n",
        "    def update_numbers(self, state):\n",
        "        # 숫자 포함 여부 변경\n",
        "        self.include_numbers = bool(state)\n",
        "        self.generate_password()\n",
        "\n",
        "    def update_special(self, state):\n",
        "        # 특수문자 포함 여부 변경\n",
        "        self.include_special_characters = bool(state)\n",
        "        self.generate_password()\n",
        "\n",
        "if __name__ == '__main__':\n",
        "    app = QApplication(sys.argv)\n",
        "    window = PasswordGenerator()\n",
        "    sys.exit(app.exec_())"
      ],
      "metadata": {
        "colab": {
          "base_uri": "https://localhost:8080/",
          "height": 110
        },
        "id": "gOu8PeygNyIp",
        "outputId": "cb5fc72c-8901-4182-e416-dfd75f96c347"
      },
      "execution_count": 3,
      "outputs": [
        {
          "output_type": "error",
          "ename": "SyntaxError",
          "evalue": "invalid syntax (<ipython-input-3-a4f0fcb8acae>, line 4)",
          "traceback": [
            "\u001b[0;36m  File \u001b[0;32m\"<ipython-input-3-a4f0fcb8acae>\"\u001b[0;36m, line \u001b[0;32m4\u001b[0m\n\u001b[0;31m    from PyQt5.QtWidgets\u001b[0m\n\u001b[0m                         ^\u001b[0m\n\u001b[0;31mSyntaxError\u001b[0m\u001b[0;31m:\u001b[0m invalid syntax\n"
          ]
        }
      ]
    }
  ]
}