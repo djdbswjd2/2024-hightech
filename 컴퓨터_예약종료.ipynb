{
  "nbformat": 4,
  "nbformat_minor": 0,
  "metadata": {
    "colab": {
      "provenance": [],
      "authorship_tag": "ABX9TyNwz32qpyM39fR/QF1G1+AH",
      "include_colab_link": true
    },
    "kernelspec": {
      "name": "python3",
      "display_name": "Python 3"
    },
    "language_info": {
      "name": "python"
    }
  },
  "cells": [
    {
      "cell_type": "markdown",
      "metadata": {
        "id": "view-in-github",
        "colab_type": "text"
      },
      "source": [
        "<a href=\"https://colab.research.google.com/github/djdbswjd2/2024-hightech/blob/main/%EC%BB%B4%ED%93%A8%ED%84%B0_%EC%98%88%EC%95%BD%EC%A2%85%EB%A3%8C.ipynb\" target=\"_parent\"><img src=\"https://colab.research.google.com/assets/colab-badge.svg\" alt=\"Open In Colab\"/></a>"
      ]
    },
    {
      "cell_type": "code",
      "execution_count": 1,
      "metadata": {
        "id": "R-32-ekR4hh3"
      },
      "outputs": [],
      "source": [
        "import os\n",
        "\n",
        "def shutdown():\n",
        "  \"\"\"컴퓨터를 종료하는 함수\"\"\"\n",
        "  os.system(\"shutdown /s /t 1\")\n",
        "\n",
        "def cancel_shutdown():\n",
        "  \"\"\"컴퓨터 종료 예약을 취소하는 함수\"\"\"\n",
        "  os.system(\"shutdown /a\")"
      ]
    },
    {
      "cell_type": "code",
      "source": [
        "def main():\n",
        "  \"\"\"프로그램의 메인 함수\"\"\"\n",
        "  print(\"컴퓨터를 몇 분 후에 종료하시겠습니까?\")\n",
        "  print(\"(종료 예약을 취소하시려면 '취소'라고 입력하세요.)\")\n",
        "  while True:\n",
        "    user_input = input(\"분: \")\n",
        "    if user_input.isdigit():\n",
        "      minutes = int(user_input)\n",
        "      if minutes > 0:\n",
        "        os.system(f\"shutdown /s /t {minutes * 60}\")\n",
        "        print(f\"{minutes}분 후에 컴퓨터가 종료됩니다.\")\n",
        "        break\n",
        "      else:\n",
        "        print(\"0 이상의 숫자를 입력하세요.\")\n",
        "    elif user_input ==\"취소\":\n",
        "      calcel_shutdown()\n",
        "      print(\"컴퓨터 종료 예약이 취소되었습니다.\")\n",
        "      break\n",
        "    else:\n",
        "      print(\"유효한 입력이 아닙니다. 다시 입력해주세요.\")\n",
        "\n",
        "if __name__ == \"__main__\":\n",
        "  main()"
      ],
      "metadata": {
        "colab": {
          "base_uri": "https://localhost:8080/"
        },
        "id": "qFhVMBUR5GxU",
        "outputId": "3c284aa0-b0e2-4114-aa6b-735f39edc5a5"
      },
      "execution_count": 5,
      "outputs": [
        {
          "output_type": "stream",
          "name": "stdout",
          "text": [
            "컴퓨터를 몇 분 후에 종료하시겠습니까?\n",
            "(종료 예약을 취소하시려면 '취소'라고 입력하세요.)\n",
            "분: 150\n",
            "150분 후에 컴퓨터가 종료됩니다.\n"
          ]
        }
      ]
    },
    {
      "cell_type": "markdown",
      "source": [
        "실패한 코딩"
      ],
      "metadata": {
        "id": "usZBwcz48stj"
      }
    },
    {
      "cell_type": "code",
      "source": [
        "import os\n",
        "import tkinter as tk\n",
        "import tkinter.messagebox\n",
        "\n",
        "class ShutdownApp:\n",
        "  def __ init__(self, master):\n",
        "    self.master = master\n",
        "    master.title(\"컴퓨터 예약종료\")\n",
        "    master.geometry(\"300x200\")\n",
        "    master.resizable(False, False)\n",
        "\n",
        "    self.minutes_label = tk.Label(master, text=\"종료 예약할 시간(분)\")\n",
        "    self.minutes_label.pack(pady=10)\n",
        "\n",
        "    self.minutes_entry = tk.Entry(master, width=10)\n",
        "    self.minutes_entry.pack(pady=10)\n",
        "\n",
        "    self.cancel_button = tk.Button(master, text=\"예약 취소\", command=self.cancel_shutdown)\n",
        "    self.cancel_button.pack(pady=10)\n",
        "\n",
        "    self.shutdown_button = tk.Button(master, text=\"종료 예약\", command=self.shutdown)\n",
        "    self.shutdown_button.pack(pady=10)\n",
        "\n",
        "    def shutdown(self):\n",
        "        \"\"\"컴퓨터를 종료하는 함수\"\"\"\n",
        "        minutes = self.minutes_entry.get()\n",
        "        if minutes.isdigit() and int(minutes) > 0:\n",
        "           self.show_message(message)\n",
        "        else:\n",
        "            message = \"올바른 값을 입력하세요.\"\n",
        "            self.show_message(message)\n",
        "\n",
        "    def cancel_shutdown(self):\n",
        "        os.system(\"shutdown /a\")\n",
        "        self.show_message(\"컴퓨터 종료 예약이 취소되었습니다.\")\n",
        "\n",
        "    def show_message(self, message):\n",
        "        \"\"\"메시지를 보여주는 함수\"\"\"\n",
        "        tk.messagebox.showinfo(\"알림\", message)\n",
        "\n",
        "if __name__ == \"__main__\":\n",
        "    root = tk.Tk()\n",
        "    app = ShutdownApp(root)\n",
        "    root.mainloop()"
      ],
      "metadata": {
        "colab": {
          "base_uri": "https://localhost:8080/",
          "height": 111
        },
        "id": "WeNFq1nG6wUU",
        "outputId": "1ad35827-ecef-44f8-b720-9e4d5997af63"
      },
      "execution_count": 7,
      "outputs": [
        {
          "output_type": "error",
          "ename": "SyntaxError",
          "evalue": "invalid syntax (<ipython-input-7-98c0846491bc>, line 6)",
          "traceback": [
            "\u001b[0;36m  File \u001b[0;32m\"<ipython-input-7-98c0846491bc>\"\u001b[0;36m, line \u001b[0;32m6\u001b[0m\n\u001b[0;31m    def __ init__(self, master):\u001b[0m\n\u001b[0m           ^\u001b[0m\n\u001b[0;31mSyntaxError\u001b[0m\u001b[0;31m:\u001b[0m invalid syntax\n"
          ]
        }
      ]
    }
  ]
}