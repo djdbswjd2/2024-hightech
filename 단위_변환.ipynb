{
  "nbformat": 4,
  "nbformat_minor": 0,
  "metadata": {
    "colab": {
      "provenance": [],
      "authorship_tag": "ABX9TyOM7uMjYqsv1EqgtH6rSwS3",
      "include_colab_link": true
    },
    "kernelspec": {
      "name": "python3",
      "display_name": "Python 3"
    },
    "language_info": {
      "name": "python"
    }
  },
  "cells": [
    {
      "cell_type": "markdown",
      "metadata": {
        "id": "view-in-github",
        "colab_type": "text"
      },
      "source": [
        "<a href=\"https://colab.research.google.com/github/djdbswjd2/2024-hightech/blob/main/%EB%8B%A8%EC%9C%84_%EB%B3%80%ED%99%98.ipynb\" target=\"_parent\"><img src=\"https://colab.research.google.com/assets/colab-badge.svg\" alt=\"Open In Colab\"/></a>"
      ]
    },
    {
      "cell_type": "code",
      "execution_count": null,
      "metadata": {
        "id": "AYLSZjsUODB2"
      },
      "outputs": [],
      "source": [
        "while True:\n",
        "    try:\n",
        "        # 사용자로부터 변환하고자 하는 값과 단위를 입력받음\n",
        "        value = float(input(\"변환하고자 하는 값을 입력하세요: \"))\n",
        "        unit = input(\"변환하고자 하는 단위를 입력하세요: \")\n",
        "\n",
        "        # 입력받은 단위에 따라 변환 수행\n",
        "        if unit == \"C\":\n",
        "            fahrenheit = value * 9/5 + 32\n",
        "            print(\"{0:.2f}℉\".format(fahrenheit))\n",
        "        elif unit == \"F\":\n",
        "            celsius = (value - 32) * 5/9\n",
        "            print(\"{0:.2f}℃\".format(celsius))\n",
        "        elif unit == \"m\":\n",
        "            feet = value * 3.281\n",
        "            print(\"{0:.2f}ft\".format(feet))\n",
        "        elif unit == \"ft\":\n",
        "            meter = value / 3.281\n",
        "            print(\"{0:.2f}m\".format(meter))\n",
        "        else:\n",
        "            print(\"잘못된 입력입니다. 다시 시도해주세요.\")\n",
        "\n",
        "        # 다시 변환할 것인지 사용자에게 물어봄\n",
        "        answer = input(\"다시 변환하시겠습니까? (Y/N)\").upper()\n",
        "        if answer == \"N\":\n",
        "            break\n",
        "    except ValueError:\n",
        "        print(\"잘못된 입력입니다. 다시 시도해주세요.\")"
      ]
    },
    {
      "cell_type": "code",
      "source": [
        "import sys\n",
        "from PyQt5.QtWidgets import QApplication, QWidget, QComboBox, QLineEdit, QLabel, QPushButton\n",
        "\n",
        "\n",
        "class UnitConverter(QWidget):\n",
        "    def __init__(self):\n",
        "        super().__init__()\n",
        "        self.initUI()\n",
        "\n",
        "    def initUI(self):\n",
        "        # 단위변환 프로그램 제목\n",
        "        self.setWindowTitle(\"Unit Converter\")\n",
        "\n",
        "        # 입력 필드\n",
        "        self.value_input = QLineEdit(self)\n",
        "        self.value_input.setGeometry(20, 20, 150, 30)\n",
        "\n",
        "        # 입력 단위 선택\n",
        "        self.unit_from = QComboBox(self)\n",
        "        self.unit_from.addItems([\"Celsius\", \"Fahrenheit\", \"Meter\", \"Feet\"])\n",
        "        self.unit_from.setGeometry(180, 20, 100, 30)\n",
        "\n",
        "        # 출력 단위 선택\n",
        "        self.unit_to = QComboBox(self)\n",
        "        self.unit_to.addItems([\"Fahrenheit\", \"Celsius\", \"Feet\", \"Meter\"])\n",
        "        self.unit_to.setGeometry(290, 20, 100, 30)\n",
        "\n",
        "        # 변환 버튼\n",
        "        self.convert_button = QPushButton(\"Convert\", self)\n",
        "        self.convert_button.setGeometry(400, 20, 100, 30)\n",
        "        self.convert_button.clicked.connect(self.convert)\n",
        "\n",
        "        # 결과 출력\n",
        "        self.result_label = QLabel(\"\", self)\n",
        "        self.result_label.setGeometry(20, 80, 480, 30)\n",
        "\n",
        "        # 윈도우 크기 및 위치 설정\n",
        "        self.setGeometry(300, 300, 520, 150)\n",
        "        self.show()\n",
        "\n",
        "    def convert(self):\n",
        "        # 사용자로부터 입력값과 단위를 가져옴\n",
        "        value = float(self.value_input.text())\n",
        "        unit_from = self.unit_from.currentText()\n",
        "        unit_to = self.unit_to.currentText()\n",
        "\n",
        "        # 입력받은 단위에 따라 변환 수행\n",
        "        if unit_from == \"Celsius\" and unit_to == \"Fahrenheit\":\n",
        "            result = value * 9/5 + 32\n",
        "        elif unit_from == \"Fahrenheit\" and unit_to == \"Celsius\":\n",
        "            result = (value - 32) * 5/9\n",
        "        elif unit_from == \"Meter\" and unit_to == \"Feet\":\n",
        "            result = value * 3.281\n",
        "        elif unit_from == \"Feet\" and unit_to == \"Meter\":\n",
        "            result = value / 3.281\n",
        "        else:\n",
        "            result = \"Invalid input\"\n",
        "\n",
        "        # 결과를 레이블에 출력\n",
        "        self.result_label.setText(\"{:.2f} {} = {:.2f} {}\".format(value, unit_from, result, unit_to))\n",
        "\n",
        "\n",
        "if __name__ == '__main__':\n",
        "    app = QApplication(sys.argv)\n",
        "    converter = UnitConverter()\n",
        "    sys.exit(app.exec_())"
      ],
      "metadata": {
        "id": "E0lB-JgCON3q"
      },
      "execution_count": null,
      "outputs": []
    }
  ]
}