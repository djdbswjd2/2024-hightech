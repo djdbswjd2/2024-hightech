{
  "nbformat": 4,
  "nbformat_minor": 0,
  "metadata": {
    "colab": {
      "provenance": [],
      "authorship_tag": "ABX9TyOWoyg81lARa5PJSEKlx7ZF",
      "include_colab_link": true
    },
    "kernelspec": {
      "name": "python3",
      "display_name": "Python 3"
    },
    "language_info": {
      "name": "python"
    }
  },
  "cells": [
    {
      "cell_type": "markdown",
      "metadata": {
        "id": "view-in-github",
        "colab_type": "text"
      },
      "source": [
        "<a href=\"https://colab.research.google.com/github/djdbswjd2/2024-hightech/blob/main/%EC%9D%B8%ED%84%B0%EB%84%B7_%EB%9D%BC%EB%94%94%EC%98%A4_%EC%8A%A4%ED%8A%B8%EB%A6%AC%EB%B0%8D_%ED%94%84%EB%A1%9C%EA%B7%B8%EB%9E%A8.ipynb\" target=\"_parent\"><img src=\"https://colab.research.google.com/assets/colab-badge.svg\" alt=\"Open In Colab\"/></a>"
      ]
    },
    {
      "cell_type": "code",
      "source": [
        "import tkinter as tk\n",
        "import vlc\n",
        "\n",
        "# 라디오 방송 정보\n",
        "radios = {\n",
        "    'EBS FM': 'http://ebsonairiosaod.ebs.co.kr/fmradiobandiaod/bandiappaac/playlist.m3u8',\n",
        "    'EBS 책읽어주는 라디오': 'http://fmbook.ebs.co.kr/fmbook/live_m4a/playlist.m3u8',\n",
        "    'EBS 외국어1': 'http://new_iradio.ebs.co.kr/iradio/iradiolive_m4a/playlist.m3u8',\n",
        "    'EBS 외국어2': 'http://bandibook.ebs.co.kr/bandibook/live_m4a/playlist.m3u8',\n",
        "    'TBS FM 교통방송': 'http://tbs.hscdn.com/tbsradio/fm/playlist.m3u8',\n",
        "    'TBS eFM': 'http://tbs.hscdn.com/tbsradio/efm/playlist.m3u8',\n",
        "}\n",
        "\n",
        "class RadioPlayer:\n",
        "    def __init__(self, master):\n",
        "        self.master = master\n",
        "        master.title('라디오')\n",
        "        master.geometry('200x100')\n",
        "        # 라디오 선택 메뉴 생성\n",
        "        self.radio_var = tk.StringVar(master)\n",
        "        self.radio_var.set(list(radios.keys())[0])\n",
        "        self.radio_menu = tk.OptionMenu(master, self.radio_var, *radios.keys())\n",
        "        self.radio_menu.pack()\n",
        "\n",
        "        # 재생/일시정지/중지 버튼 생성\n",
        "        self.play_button = tk.Button(master, text='재생', command=self.play_radio)\n",
        "        self.pause_button = tk.Button(master, text='일시정지', command=self.pause_radio)\n",
        "        self.stop_button = tk.Button(master, text='중지', command=self.stop_radio)\n",
        "        self.play_button.pack(side=tk.LEFT, padx=10)\n",
        "        self.pause_button.pack(side=tk.LEFT, padx=10)\n",
        "        self.stop_button.pack(side=tk.LEFT, padx=10)\n",
        "        # 미디어 재생을 위한 인스턴스 생성\n",
        "        self.instance = vlc.Instance('--no-xlib')\n",
        "\n",
        "        # 미디어 플레이어 생성\n",
        "        self.media_player = self.instance.media_player_new()\n",
        "\n",
        "        # 초기 상태\n",
        "        self.is_playing = False\n",
        "\n",
        "    def play_radio(self):\n",
        "        \"\"\"선택한 라디오 방송을 재생합니다.\"\"\"\n",
        "        radio_url = radios[self.radio_var.get()]\n",
        "        media = self.instance.media_new(radio_url)\n",
        "        self.media_player.set_media(media)\n",
        "        self.media_player.play()\n",
        "        self.is_playing = True\n",
        "\n",
        "    def pause_radio(self):\n",
        "        \"\"\"현재 재생 중인 라디오 방송을 일시정지합니다.\"\"\"\n",
        "        if self.is_playing:\n",
        "            self.media_player.pause()\n",
        "            self.is_playing = False\n",
        "\n",
        "    def stop_radio(self):\n",
        "        \"\"\"현재 재생 중인 라디오 방송을 중지합니다.\"\"\"\n",
        "        if self.is_playing:\n",
        "            self.media_player.stop()\n",
        "            self.is_playing = False\n",
        "\n",
        "root = tk.Tk()\n",
        "radio_player = RadioPlayer(root)\n",
        "root.mainloop()"
      ],
      "metadata": {
        "id": "H2dopQNxNP3J"
      },
      "execution_count": null,
      "outputs": []
    },
    {
      "cell_type": "code",
      "source": [
        "import vlc\n",
        "\n",
        "# 미디어 재생을 위한 인스턴스 생성\n",
        "player = vlc.Instance('--no-xlib')\n",
        "\n",
        "# 재생할 미디어의 URL\n",
        "url = 'http://fmbook.ebs.co.kr/fmbook/live_m4a/playlist.m3u8'\n",
        "\n",
        "# 미디어 플레이어 생성\n",
        "media_player = player.media_player_new()\n",
        "\n",
        "# 미디어 재생을 위한 미디어 생성\n",
        "media = player.media_new(url)\n",
        "\n",
        "# 미디어 플레이어에 미디어 설정\n",
        "media_player.set_media(media)\n",
        "\n",
        "# 미디어 재생\n",
        "media_player.play()\n",
        "\n",
        "# 재생이 종료될 때까지 대기\n",
        "while True:\n",
        "    pass\n"
      ],
      "metadata": {
        "id": "FrF-kZlhMZ3R"
      },
      "execution_count": null,
      "outputs": []
    }
  ]
}