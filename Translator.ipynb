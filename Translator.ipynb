{
  "nbformat": 4,
  "nbformat_minor": 0,
  "metadata": {
    "colab": {
      "provenance": [],
      "authorship_tag": "ABX9TyOplg38pwhL4JuKhWP1jAQO",
      "include_colab_link": true
    },
    "kernelspec": {
      "name": "python3",
      "display_name": "Python 3"
    },
    "language_info": {
      "name": "python"
    }
  },
  "cells": [
    {
      "cell_type": "markdown",
      "metadata": {
        "id": "view-in-github",
        "colab_type": "text"
      },
      "source": [
        "<a href=\"https://colab.research.google.com/github/djdbswjd2/2024-hightech/blob/main/Translator.ipynb\" target=\"_parent\"><img src=\"https://colab.research.google.com/assets/colab-badge.svg\" alt=\"Open In Colab\"/></a>"
      ]
    },
    {
      "cell_type": "code",
      "source": [
        "fruits = [\"딸기\",\"복숭아\",\"배\",\"천도복숭아\",\"사과\",\"포도\",\"체리\",\"블루베리\"]\n",
        "vegetables = [\"시금치\",\"케일\",\"피망\",\"강낭콩\"]\n",
        "\n",
        "dirty_dozen = [fruits, vegetables]\n",
        "\n",
        "print(dirty_dozen)"
      ],
      "metadata": {
        "colab": {
          "base_uri": "https://localhost:8080/"
        },
        "id": "vKXJuFaRlVLD",
        "outputId": "c67f8b20-c639-4ed5-d09e-35f318650f6c"
      },
      "execution_count": 1,
      "outputs": [
        {
          "output_type": "stream",
          "name": "stdout",
          "text": [
            "[['딸기', '복숭아', '배', '천도복숭아', '사과', '포도', '체리', '블루베리'], ['시금치', '케일', '피망', '강낭콩']]\n"
          ]
        }
      ]
    },
    {
      "cell_type": "code",
      "source": [
        "fruits = [\"Strawberries\",\"Nectarines\",\"Apples\",\"Grapes\",\"Peaches\",\"Cherrues\",\"Pears\"]\n",
        "fruits[-1] = \"Melons\"\n",
        "fruits.append(\"Lemons\")\n",
        "print(fruits)"
      ],
      "metadata": {
        "colab": {
          "base_uri": "https://localhost:8080/"
        },
        "id": "kEbNEENWl4aM",
        "outputId": "265d7032-0a6a-45a2-ada6-0acc575f2bf6"
      },
      "execution_count": 2,
      "outputs": [
        {
          "output_type": "stream",
          "name": "stdout",
          "text": [
            "['Strawberries', 'Nectarines', 'Apples', 'Grapes', 'Peaches', 'Cherrues', 'Melons', 'Lemons']\n"
          ]
        }
      ]
    },
    {
      "cell_type": "code",
      "source": [
        "fruits = [\"Strawberries\",\"Nectarines\",\"Apples\",\"Grapes\",\"Peaches\",\"Cherries\",\"Pears\"]\n",
        "vegetables = [\"Spinach\",\"Kale\",\"Tomatoes\",\"Celery\",\"Potatoes\"]\n",
        "\n",
        "dirty_dozen = [fruits, vegetables]\n",
        "\n",
        "print(dirty_dozen[1][1])"
      ],
      "metadata": {
        "colab": {
          "base_uri": "https://localhost:8080/"
        },
        "id": "5k6o-ViemMLN",
        "outputId": "e840ceea-a14c-4336-878e-7be97e8c3b88"
      },
      "execution_count": 4,
      "outputs": [
        {
          "output_type": "stream",
          "name": "stdout",
          "text": [
            "Kale\n"
          ]
        }
      ]
    },
    {
      "cell_type": "code",
      "source": [
        "import random"
      ],
      "metadata": {
        "id": "Wba_kAElnskN"
      },
      "execution_count": 6,
      "outputs": []
    },
    {
      "cell_type": "code",
      "source": [
        "rock = '''\n",
        "    _______\n",
        "---'   ____)\n",
        "      (_____)\n",
        "      (_____)\n",
        "      (____)\n",
        "---.__(___)\n",
        "'''\n",
        "\n",
        "paper = '''\n",
        "    _______\n",
        "---'   ____)____\n",
        "          ______)\n",
        "          _______)\n",
        "         _______)\n",
        "---.__________)\n",
        "'''\n",
        "\n",
        "scissors = '''\n",
        "    _______\n",
        "---'   ____)____\n",
        "          ______)\n",
        "       __________)\n",
        "      (____)\n",
        "---.__(___)\n",
        "'''\n",
        "\n",
        "img_hands = [rock, paper, scissors]"
      ],
      "metadata": {
        "id": "HD1ZZQsUnv6r"
      },
      "execution_count": 10,
      "outputs": []
    },
    {
      "cell_type": "code",
      "source": [
        "my_choice = int(input(\"무엇을 내겠습니까? 바위(0), 보(1), 가위(2)\"))\n",
        "if my_choice >=3 or my_choice <0:\n",
        "  print(\"잘못된 숫자를 입력했습니다\")\n",
        "\n",
        "else:\n",
        "  print(f\"나의 선택은: \")\n",
        "  print(img_hands[my_choice])\n",
        "\n",
        "  computer_choice = random.randint(0, 2)\n",
        "  print(f\"컴퓨터의 선택은: \")\n",
        "  print(img_hands[computer_choice])"
      ],
      "metadata": {
        "colab": {
          "base_uri": "https://localhost:8080/"
        },
        "id": "s0qIJeutqXtH",
        "outputId": "114fa686-600d-43a8-972e-443d57d24e04"
      },
      "execution_count": 18,
      "outputs": [
        {
          "output_type": "stream",
          "name": "stdout",
          "text": [
            "무엇을 내겠습니까? 바위(0), 보(1), 가위(2)2\n",
            "나의 선택은: \n",
            "\n",
            "    _______\n",
            "---'   ____)____\n",
            "          ______)\n",
            "       __________)\n",
            "      (____)\n",
            "---.__(___)\n",
            "\n",
            "컴퓨터의 선택은: \n",
            "\n",
            "    _______\n",
            "---'   ____)____\n",
            "          ______)\n",
            "       __________)\n",
            "      (____)\n",
            "---.__(___)\n",
            "\n"
          ]
        }
      ]
    },
    {
      "cell_type": "code",
      "source": [
        "if computer_choice == 0 and my_choice == 2:\n",
        "  print(\"컴퓨터가 이겼다\")\n",
        "elif my_choice == 0 and computer_choice == 2:\n",
        "  print(\"내가 이겼다!\")\n",
        "elif computer_choice > my_choice:\n",
        "  print(\"컴퓨터가 이겼다\")\n",
        "elif my_choice == computer_choice:\n",
        "  print(\"비겼다!\")\n",
        "elif my_choice > computer_choice:\n",
        "  print(\"내가 이겼다!\")"
      ],
      "metadata": {
        "colab": {
          "base_uri": "https://localhost:8080/"
        },
        "id": "ZWQgivs5m_R2",
        "outputId": "ba68bbbe-97f7-4688-ca76-8d1a2992e0a2"
      },
      "execution_count": 19,
      "outputs": [
        {
          "output_type": "stream",
          "name": "stdout",
          "text": [
            "비겼다!\n"
          ]
        }
      ]
    },
    {
      "cell_type": "code",
      "source": [
        "import random\n",
        "\n",
        "number = random.randint(1,100)\n",
        "\n",
        "num_of_guesses = 0\n",
        "\n",
        "while True:\n",
        "  guess = int(input(\"1부터 100까지의 숫자를 입력하세요: \"))\n",
        "  num_of_guesses += 1\n",
        "  if guess > number:\n",
        "    print(\"입력한 숫자가 너무 큽니다.\")\n",
        "  elif guess < number:\n",
        "    print(\"입력한 숫자가 너무 작습니다.\")\n",
        "  else:\n",
        "    print(f\"축하합니다! {num_of_guesses}회 만에 숫자를 맞췄습니다.\")\n",
        "    break"
      ],
      "metadata": {
        "colab": {
          "base_uri": "https://localhost:8080/"
        },
        "id": "6TxH1TIBr8-t",
        "outputId": "7a18ac1c-273d-405d-8eb3-2b36a50b7004"
      },
      "execution_count": 20,
      "outputs": [
        {
          "output_type": "stream",
          "name": "stdout",
          "text": [
            "1부터 100까지의 숫자를 입력하세요: 50\n",
            "입력한 숫자가 너무 작습니다.\n",
            "1부터 100까지의 숫자를 입력하세요: 60\n",
            "입력한 숫자가 너무 작습니다.\n",
            "1부터 100까지의 숫자를 입력하세요: 89\n",
            "입력한 숫자가 너무 큽니다.\n",
            "1부터 100까지의 숫자를 입력하세요: 80\n",
            "입력한 숫자가 너무 작습니다.\n",
            "1부터 100까지의 숫자를 입력하세요: 85\n",
            "축하합니다! 5회 만에 숫자를 맞췄습니다.\n"
          ]
        }
      ]
    },
    {
      "cell_type": "code",
      "source": [
        "!pip install pyttsx3"
      ],
      "metadata": {
        "colab": {
          "base_uri": "https://localhost:8080/"
        },
        "id": "hc4LY6q2stye",
        "outputId": "3f2a589b-17a3-4752-fa52-000cf255bba5"
      },
      "execution_count": 21,
      "outputs": [
        {
          "output_type": "stream",
          "name": "stdout",
          "text": [
            "Collecting pyttsx3\n",
            "  Downloading pyttsx3-2.90-py3-none-any.whl (39 kB)\n",
            "Installing collected packages: pyttsx3\n",
            "Successfully installed pyttsx3-2.90\n"
          ]
        }
      ]
    },
    {
      "cell_type": "code",
      "source": [
        "!pip install gtts"
      ],
      "metadata": {
        "colab": {
          "base_uri": "https://localhost:8080/"
        },
        "id": "wDjFsOkBs2rG",
        "outputId": "2ea8e3b7-8742-4586-a2a2-3260f7401cd5"
      },
      "execution_count": 22,
      "outputs": [
        {
          "output_type": "stream",
          "name": "stdout",
          "text": [
            "Collecting gtts\n",
            "  Downloading gTTS-2.5.1-py3-none-any.whl (29 kB)\n",
            "Requirement already satisfied: requests<3,>=2.27 in /usr/local/lib/python3.10/dist-packages (from gtts) (2.31.0)\n",
            "Requirement already satisfied: click<8.2,>=7.1 in /usr/local/lib/python3.10/dist-packages (from gtts) (8.1.7)\n",
            "Requirement already satisfied: charset-normalizer<4,>=2 in /usr/local/lib/python3.10/dist-packages (from requests<3,>=2.27->gtts) (3.3.2)\n",
            "Requirement already satisfied: idna<4,>=2.5 in /usr/local/lib/python3.10/dist-packages (from requests<3,>=2.27->gtts) (3.6)\n",
            "Requirement already satisfied: urllib3<3,>=1.21.1 in /usr/local/lib/python3.10/dist-packages (from requests<3,>=2.27->gtts) (2.0.7)\n",
            "Requirement already satisfied: certifi>=2017.4.17 in /usr/local/lib/python3.10/dist-packages (from requests<3,>=2.27->gtts) (2024.2.2)\n",
            "Installing collected packages: gtts\n",
            "Successfully installed gtts-2.5.1\n"
          ]
        }
      ]
    },
    {
      "cell_type": "code",
      "source": [
        "!pip install playsound"
      ],
      "metadata": {
        "colab": {
          "base_uri": "https://localhost:8080/"
        },
        "id": "fCruotnLs46f",
        "outputId": "dee2ed33-9cbe-4914-c6be-75b0b552f4f0"
      },
      "execution_count": 23,
      "outputs": [
        {
          "output_type": "stream",
          "name": "stdout",
          "text": [
            "Collecting playsound\n",
            "  Downloading playsound-1.3.0.tar.gz (7.7 kB)\n",
            "  Preparing metadata (setup.py) ... \u001b[?25l\u001b[?25hdone\n",
            "Building wheels for collected packages: playsound\n",
            "  Building wheel for playsound (setup.py) ... \u001b[?25l\u001b[?25hdone\n",
            "  Created wheel for playsound: filename=playsound-1.3.0-py3-none-any.whl size=7020 sha256=b1780c532f6158d98cbf9a09291eb6e23b7de27f1769f64919a09a7f00ce4814\n",
            "  Stored in directory: /root/.cache/pip/wheels/90/89/ed/2d643f4226fc8c7c9156fc28abd8051e2d2c0de37ae51ac45c\n",
            "Successfully built playsound\n",
            "Installing collected packages: playsound\n",
            "Successfully installed playsound-1.3.0\n"
          ]
        }
      ]
    },
    {
      "cell_type": "code",
      "source": [
        "!pip install pyzipper"
      ],
      "metadata": {
        "colab": {
          "base_uri": "https://localhost:8080/"
        },
        "id": "1kLEBScVtslm",
        "outputId": "246362cf-ab36-4c13-bb37-bea65293eaaf"
      },
      "execution_count": 24,
      "outputs": [
        {
          "output_type": "stream",
          "name": "stdout",
          "text": [
            "Collecting pyzipper\n",
            "  Downloading pyzipper-0.3.6-py2.py3-none-any.whl (67 kB)\n",
            "\u001b[2K     \u001b[90m━━━━━━━━━━━━━━━━━━━━━━━━━━━━━━━━━━━━━━━━\u001b[0m \u001b[32m67.7/67.7 kB\u001b[0m \u001b[31m758.2 kB/s\u001b[0m eta \u001b[36m0:00:00\u001b[0m\n",
            "\u001b[?25hCollecting pycryptodomex (from pyzipper)\n",
            "  Downloading pycryptodomex-3.20.0-cp35-abi3-manylinux_2_17_x86_64.manylinux2014_x86_64.whl (2.1 MB)\n",
            "\u001b[2K     \u001b[90m━━━━━━━━━━━━━━━━━━━━━━━━━━━━━━━━━━━━━━━━\u001b[0m \u001b[32m2.1/2.1 MB\u001b[0m \u001b[31m10.6 MB/s\u001b[0m eta \u001b[36m0:00:00\u001b[0m\n",
            "\u001b[?25hInstalling collected packages: pycryptodomex, pyzipper\n",
            "Successfully installed pycryptodomex-3.20.0 pyzipper-0.3.6\n"
          ]
        }
      ]
    },
    {
      "cell_type": "code",
      "source": [
        "!pip install googletrans==4.0.0-rc1"
      ],
      "metadata": {
        "colab": {
          "base_uri": "https://localhost:8080/"
        },
        "id": "hj5CuhwiuXuP",
        "outputId": "c61ed98d-3a3f-40ff-9e5e-f5b959dbbef2"
      },
      "execution_count": 6,
      "outputs": [
        {
          "output_type": "stream",
          "name": "stdout",
          "text": [
            "Requirement already satisfied: googletrans==4.0.0-rc1 in /usr/local/lib/python3.10/dist-packages (4.0.0rc1)\n",
            "Requirement already satisfied: httpx==0.13.3 in /usr/local/lib/python3.10/dist-packages (from googletrans==4.0.0-rc1) (0.13.3)\n",
            "Requirement already satisfied: certifi in /usr/local/lib/python3.10/dist-packages (from httpx==0.13.3->googletrans==4.0.0-rc1) (2024.2.2)\n",
            "Requirement already satisfied: hstspreload in /usr/local/lib/python3.10/dist-packages (from httpx==0.13.3->googletrans==4.0.0-rc1) (2024.4.1)\n",
            "Requirement already satisfied: sniffio in /usr/local/lib/python3.10/dist-packages (from httpx==0.13.3->googletrans==4.0.0-rc1) (1.3.1)\n",
            "Requirement already satisfied: chardet==3.* in /usr/local/lib/python3.10/dist-packages (from httpx==0.13.3->googletrans==4.0.0-rc1) (3.0.4)\n",
            "Requirement already satisfied: idna==2.* in /usr/local/lib/python3.10/dist-packages (from httpx==0.13.3->googletrans==4.0.0-rc1) (2.10)\n",
            "Requirement already satisfied: rfc3986<2,>=1.3 in /usr/local/lib/python3.10/dist-packages (from httpx==0.13.3->googletrans==4.0.0-rc1) (1.5.0)\n",
            "Requirement already satisfied: httpcore==0.9.* in /usr/local/lib/python3.10/dist-packages (from httpx==0.13.3->googletrans==4.0.0-rc1) (0.9.1)\n",
            "Requirement already satisfied: h11<0.10,>=0.8 in /usr/local/lib/python3.10/dist-packages (from httpcore==0.9.*->httpx==0.13.3->googletrans==4.0.0-rc1) (0.9.0)\n",
            "Requirement already satisfied: h2==3.* in /usr/local/lib/python3.10/dist-packages (from httpcore==0.9.*->httpx==0.13.3->googletrans==4.0.0-rc1) (3.2.0)\n",
            "Requirement already satisfied: hyperframe<6,>=5.2.0 in /usr/local/lib/python3.10/dist-packages (from h2==3.*->httpcore==0.9.*->httpx==0.13.3->googletrans==4.0.0-rc1) (5.2.0)\n",
            "Requirement already satisfied: hpack<4,>=3.0 in /usr/local/lib/python3.10/dist-packages (from h2==3.*->httpcore==0.9.*->httpx==0.13.3->googletrans==4.0.0-rc1) (3.0.0)\n"
          ]
        }
      ]
    },
    {
      "cell_type": "code",
      "source": [
        "from googletrans import Translator\n",
        "\n",
        "input_file_path = \"/content/영어문서.txt\"\n",
        "output_file_path = \"/content/한글번역.txt\"\n",
        "\n",
        "translator = Translator()\n",
        "\n",
        "with open(input_file_path, \"r\", encoding=\"utf-8\") as input_file:\n",
        "  text = input_file.read()\n",
        "\n",
        "result = translator.translate(text, dest=\"ko\")\n",
        "\n",
        "with open(output_file_path, \"w\", encoding=\"utf-8\") as output_file:\n",
        "  output_file.write(result.text)\n",
        ""
      ],
      "metadata": {
        "id": "z-T7ucHIuk0f"
      },
      "execution_count": 10,
      "outputs": []
    }
  ]
}