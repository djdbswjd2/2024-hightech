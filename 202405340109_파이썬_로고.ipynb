{
  "nbformat": 4,
  "nbformat_minor": 0,
  "metadata": {
    "colab": {
      "provenance": [],
      "authorship_tag": "ABX9TyMppS8QpazKpV6UVws/DZ2V",
      "include_colab_link": true
    },
    "kernelspec": {
      "name": "python3",
      "display_name": "Python 3"
    },
    "language_info": {
      "name": "python"
    }
  },
  "cells": [
    {
      "cell_type": "markdown",
      "metadata": {
        "id": "view-in-github",
        "colab_type": "text"
      },
      "source": [
        "<a href=\"https://colab.research.google.com/github/djdbswjd2/2024-hightech/blob/main/202405340109_%ED%8C%8C%EC%9D%B4%EC%8D%AC_%EB%A1%9C%EA%B3%A0.ipynb\" target=\"_parent\"><img src=\"https://colab.research.google.com/assets/colab-badge.svg\" alt=\"Open In Colab\"/></a>"
      ]
    },
    {
      "cell_type": "code",
      "execution_count": 1,
      "metadata": {
        "colab": {
          "base_uri": "https://localhost:8080/"
        },
        "id": "dPHInvmcpJ9o",
        "outputId": "cb69dc20-da0b-46fb-be93-b1bd08a2368c"
      },
      "outputs": [
        {
          "output_type": "stream",
          "name": "stdout",
          "text": [
            "Collecting bing-image-downloader\n",
            "  Downloading bing_image_downloader-1.1.2-py3-none-any.whl (5.9 kB)\n",
            "Installing collected packages: bing-image-downloader\n",
            "Successfully installed bing-image-downloader-1.1.2\n"
          ]
        }
      ],
      "source": [
        "!pip install bing-image-downloader"
      ]
    },
    {
      "cell_type": "code",
      "source": [
        "from bing_image_downloader import downloader\n",
        "from pathlib import Path\n",
        "\n",
        "def download_images(keyword, num_images, file_name):\n",
        "  output_directory = \"images\"\n",
        "\n",
        "  downloader.download(keyword, limit=num_images, output_dir=output_directory, adult_filter_off=True, force_replace=False, timeout=60)\n",
        "\n",
        "\n",
        "  root = Path().cwd() / output_directory\n",
        "  downloaded_files = list(root.glob(\"*.*\"))\n",
        "  for i, file in enumerate(downloaded_files):\n",
        "    extension = file.suffix\n",
        "    new_file_name = f\"(file_name)(i+1)(extension)\"\n",
        "    new_file_path = root / new_file_name\n",
        "    file.rename(new_file_path)"
      ],
      "metadata": {
        "id": "vecUKC0qpKTD"
      },
      "execution_count": 4,
      "outputs": []
    },
    {
      "cell_type": "code",
      "source": [
        "keyword = \"파이썬 로고\"\n",
        "num_images = 30\n",
        "file_name = \"파이썬\""
      ],
      "metadata": {
        "id": "w2ue_ocsptJK"
      },
      "execution_count": 5,
      "outputs": []
    },
    {
      "cell_type": "code",
      "source": [
        "from google.colab import drive\n",
        "drive.mount('/content/drive')\n",
        "download_images(keyword, num_images, file_name)"
      ],
      "metadata": {
        "colab": {
          "base_uri": "https://localhost:8080/"
        },
        "id": "KIPpaMQBp5oT",
        "outputId": "a3412e69-e6d9-40b1-fa22-c5feb09584fa"
      },
      "execution_count": 8,
      "outputs": [
        {
          "output_type": "stream",
          "name": "stdout",
          "text": [
            "Mounted at /content/drive\n",
            "[%] Downloading Images to /content/images/파이썬 로고\n",
            "\n",
            "\n",
            "[!!]Indexing page: 1\n",
            "\n",
            "[%] Indexed 31 Images on Page 1.\n",
            "\n",
            "===============================================\n",
            "\n",
            "[%] Downloading Image #1 from https://w7.pngwing.com/pngs/234/329/png-transparent-python-logo.png\n",
            "[%] File Downloaded !\n",
            "\n",
            "[%] Downloading Image #2 from https://velog.velcdn.com/images/richeberry/post/a819a7e7-e071-4a07-a3b4-7098d15674e3/logo-python.png\n",
            "[%] File Downloaded !\n",
            "\n",
            "[%] Downloading Image #3 from https://e7.pngegg.com/pngimages/593/15/png-clipart-python-others-text-logo.png\n",
            "[%] File Downloaded !\n",
            "\n",
            "[%] Downloading Image #4 from https://qph.fs.quoracdn.net/main-qimg-28cadbd02699c25a88e5c78d73c7babc\n",
            "[%] File Downloaded !\n",
            "\n",
            "[%] Downloading Image #5 from https://w7.pngwing.com/pngs/623/893/png-transparent-python-logo-python-software-logo-social-media-logo-logo-technology-logo-3d-icon.png\n",
            "[%] File Downloaded !\n",
            "\n",
            "[%] Downloading Image #6 from https://w7.pngwing.com/pngs/806/963/png-transparent-python-hd-logo.png\n",
            "[%] File Downloaded !\n",
            "\n",
            "[%] Downloading Image #7 from https://www.snugarchive.com/static/06cc3be354c9abae90b6ebc9469d7ff1/84d4b/featured-image-python-logo.png\n",
            "[%] File Downloaded !\n",
            "\n",
            "[%] Downloading Image #8 from https://wallpapers4screen.com/Uploads/20-8-2022/47546/thumb-python-logo-4k-minimalism-programming-languages-creative.jpg\n",
            "[%] File Downloaded !\n",
            "\n",
            "[%] Downloading Image #9 from https://greenart.co.kr/upimage/subject/group5_7.jpg\n",
            "[%] File Downloaded !\n",
            "\n",
            "[%] Downloading Image #10 from https://e1.pxfuel.com/desktop-wallpaper/403/946/desktop-wallpaper-python-logo-python.jpg\n",
            "[%] File Downloaded !\n",
            "\n",
            "[%] Downloading Image #11 from https://grepp-cloudfront.s3.amazonaws.com/programmers_imgs/learn/PEDU-945/sec-header-icon-python.png\n",
            "[%] File Downloaded !\n",
            "\n",
            "[%] Downloading Image #12 from https://velog.velcdn.com/images/starkdy/post/ccbe04de-ede3-448c-9bdd-b855303f69f7/image.png\n",
            "[%] File Downloaded !\n",
            "\n",
            "[%] Downloading Image #13 from https://images.unsplash.com/opengraph/1x1.png?auto=format&amp;fit=crop&amp;w=1200&amp;h=630&amp;q=60&amp;mark-w=64&amp;mark-align=top%2Cleft&amp;mark-pad=50&amp;blend-w=1&amp;mark=https:%2F%2Fimages.unsplash.com%2Fopengraph%2Flogo.png&amp;blend=https:%2F%2Fimages.unsplash.com%2Fphoto-1620288627223-53302f4e8c74%3Fcrop%3Dfaces%252Cedges%26cs%3Dtinysrgb%26fit%3Dcrop%26fm%3Djpg%26ixid%3DMnwxMjA3fDB8MXxzZWFyY2h8NHx8JUVEJThDJThDJUVDJTlEJUI0JUVDJThEJUFDJTIwJUVCJUExJTlDJUVBJUIzJUEwfGtvfDB8fHx8MTY4MDcyODI2OA%26ixlib%3Drb-4.0.3%26q%3D60%26w%3D1200%26auto%3Dformat%26h%3D630%26mark-w%3D750%26mark-align%3Dmiddle%252Ccenter%26blend-mode%3Dnormal%26blend-alpha%3D10%26mark%3Dhttps%253A%252F%252Fimages.unsplash.com%252Fopengraph%252Fsearch-input.png%253Fauto%253Dformat%2526fit%253Dcrop%2526w%253D750%2526h%253D84%2526q%253D60%2526txt-color%253D000000%2526txt-size%253D40%2526txt-align%253Dmiddle%25252Cleft%2526txt-pad%253D80%2526txt-width%253D660%2526txt-clip%253Dellipsis%2526txt%253D%2525ED%25258C%25258C%2525EC%25259D%2525B4%2525EC%25258D%2525AC%252520%2525EB%2525A1%25259C%2525EA%2525B3%2525A0%26blend%3D000000\n",
            "[%] File Downloaded !\n",
            "\n",
            "[%] Downloading Image #14 from https://images.velog.io/images/717lumos/post/b465542f-c47a-4ed2-bad6-239796fed000/1200px-Python_and_Qt.svg.png\n",
            "[%] File Downloaded !\n",
            "\n",
            "[%] Downloading Image #15 from https://i.ytimg.com/vi/__qAb_FxGHE/maxresdefault.jpg\n",
            "[%] File Downloaded !\n",
            "\n",
            "[%] Downloading Image #16 from https://img.lovepik.com/element/45000/8140.png_860.png\n",
            "[%] File Downloaded !\n",
            "\n",
            "[%] Downloading Image #17 from https://i.ytimg.com/vi/kWiCuklohdY/maxresdefault.jpg\n",
            "[%] File Downloaded !\n",
            "\n",
            "[%] Downloading Image #18 from https://cdn.inflearn.com/public/files/posts/84db7dc0-e93d-4db8-b4d9-9d63c1fd1f74/blob\n",
            "[%] File Downloaded !\n",
            "\n",
            "[%] Downloading Image #19 from https://u7.uidownload.com/vector/160/497/vector-green-python-logos-vector-eps-thumbnail.jpg\n",
            "[%] File Downloaded !\n",
            "\n",
            "[%] Downloading Image #20 from https://cdn.inflearn.com/public/files/courses/326014/912b97e9-cecd-42c1-8256-5d109a764fe5/326014-0.png\n",
            "[%] File Downloaded !\n",
            "\n",
            "[%] Downloading Image #21 from https://www.affmu.com/uploads/article/59123/bfRIeTS4V3kmJnx7.jpg\n",
            "[%] File Downloaded !\n",
            "\n",
            "[%] Downloading Image #22 from https://cdn.inflearn.com/public/courses/324145/course_cover/b03d9a4a-f533-4f41-84a7-31f22b362b1e/I_O_python_0.png\n",
            "[%] File Downloaded !\n",
            "\n",
            "[%] Downloading Image #23 from https://cdn.inflearn.com/public/courses/328974/cover/412085a5-3809-4b34-bbd7-9ed55769f976/파이썬 터틀 프로젝트 1편 인프런 썸네일.png\n",
            "[!] Issue getting: https://cdn.inflearn.com/public/courses/328974/cover/412085a5-3809-4b34-bbd7-9ed55769f976/파이썬 터틀 프로젝트 1편 인프런 썸네일.png\n",
            "[!] Error:: URL can't contain control characters. '/public/courses/328974/cover/412085a5-3809-4b34-bbd7-9ed55769f976/파이썬 터틀 프로젝트 1편 인프런 썸네일.png' (found at least ' ')\n",
            "[%] Downloading Image #23 from https://cdn.inflearn.com/public/courses/324595/cover/4a9cc839-a6a3-4445-b73d-8bc54a2553b9/324595-eng.png\n",
            "[%] File Downloaded !\n",
            "\n",
            "[%] Downloading Image #24 from https://cdn.inflearn.com/public/files/courses/326564/98bca2f0-c45b-4972-a0d1-621a13a928bc/화살표_배경색_파이썬.png\n",
            "[!] Issue getting: https://cdn.inflearn.com/public/files/courses/326564/98bca2f0-c45b-4972-a0d1-621a13a928bc/화살표_배경색_파이썬.png\n",
            "[!] Error:: 'ascii' codec can't encode characters in position 70-72: ordinal not in range(128)\n",
            "[%] Downloading Image #24 from https://w7.pngwing.com/pngs/858/683/png-transparent-computer-icons-python-programming-language-others-angle-text-logo.png\n",
            "[%] File Downloaded !\n",
            "\n",
            "[%] Downloading Image #25 from https://cdn.inflearn.com/public/files/courses/324595/636be505-9f19-4029-8423-e925cd11ef9e/qrcode.gif\n",
            "[%] File Downloaded !\n",
            "\n",
            "[%] Downloading Image #26 from https://www.bing.com/th/id/OGC.3c067bd889cdcd010c5a9a88b25566c6?pid=1.7&amp;rurl=https%3a%2f%2fcdn.inflearn.com%2fpublic%2ffiles%2fcourses%2f324595%2f636be505-9f19-4029-8423-e925cd11ef9e%2fqrcode.gif&amp;ehk=SW5DwOanzPDfQZvh4UwciibzR%2fcSbiFeJbqkGYuNePc%3d\n",
            "[!] Issue getting: https://www.bing.com/th/id/OGC.3c067bd889cdcd010c5a9a88b25566c6?pid=1.7&amp;rurl=https%3a%2f%2fcdn.inflearn.com%2fpublic%2ffiles%2fcourses%2f324595%2f636be505-9f19-4029-8423-e925cd11ef9e%2fqrcode.gif&amp;ehk=SW5DwOanzPDfQZvh4UwciibzR%2fcSbiFeJbqkGYuNePc%3d\n",
            "[!] Error:: HTTP Error 404: Not Found\n",
            "[%] Downloading Image #26 from https://cdn.inflearn.com/public/files/courses/326318/c0257289-4038-4402-88cd-8be7b074b7a9/326564-0.png\n",
            "[%] File Downloaded !\n",
            "\n",
            "[%] Downloading Image #27 from https://i.ytimg.com/vi/c-9TUygchmw/maxresdefault.jpg\n",
            "[%] File Downloaded !\n",
            "\n",
            "[%] Downloading Image #28 from https://e0.pxfuel.com/wallpapers/962/582/desktop-wallpaper-python-programming-language-at.jpg\n",
            "[%] File Downloaded !\n",
            "\n",
            "\n",
            "\n",
            "[!!]Indexing page: 2\n",
            "\n",
            "[%] Indexed 37 Images on Page 2.\n",
            "\n",
            "===============================================\n",
            "\n",
            "[%] Downloading Image #29 from https://cdn.inflearn.com/public/files/courses/324835/39920edf-595d-49cc-a6e2-b7bc75ed9598/5.gif\n",
            "[%] File Downloaded !\n",
            "\n",
            "[%] Downloading Image #30 from https://www.bing.com/th/id/OGC.64be7f6751d05b893ed2eb5da76b56a8?pid=1.7&amp;rurl=https%3a%2f%2fcdn.inflearn.com%2fpublic%2ffiles%2fcourses%2f324835%2f39920edf-595d-49cc-a6e2-b7bc75ed9598%2f5.gif&amp;ehk=Iya2LwmskERFrzByn71y%2bKyJrsYvjH%2bGWliPXrW6MNE%3d\n",
            "[!] Issue getting: https://www.bing.com/th/id/OGC.64be7f6751d05b893ed2eb5da76b56a8?pid=1.7&amp;rurl=https%3a%2f%2fcdn.inflearn.com%2fpublic%2ffiles%2fcourses%2f324835%2f39920edf-595d-49cc-a6e2-b7bc75ed9598%2f5.gif&amp;ehk=Iya2LwmskERFrzByn71y%2bKyJrsYvjH%2bGWliPXrW6MNE%3d\n",
            "[!] Error:: HTTP Error 404: Not Found\n",
            "[%] Downloading Image #30 from https://e7.pngegg.com/pngimages/970/663/png-clipart-turtle-graphics-logo-computer-graphics-python-turtle-animals-spiral.png\n",
            "[%] File Downloaded !\n",
            "\n",
            "\n",
            "\n",
            "[%] Done. Downloaded 30 images.\n"
          ]
        }
      ]
    },
    {
      "cell_type": "code",
      "source": [
        "import shutil\n",
        "\n",
        "def compress_folder(folder_path, output_path):\n",
        "  shutil.make_archive(output_path, 'zip', folder_path)\n",
        "\n",
        "folder_path = \"images\"\n",
        "output_path = \"images\"\n",
        "compress_folder(folder_path, output_path)"
      ],
      "metadata": {
        "id": "aOH0riYpqpLr"
      },
      "execution_count": 11,
      "outputs": []
    }
  ]
}