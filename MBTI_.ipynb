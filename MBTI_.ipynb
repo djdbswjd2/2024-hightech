{
  "nbformat": 4,
  "nbformat_minor": 0,
  "metadata": {
    "colab": {
      "provenance": [],
      "authorship_tag": "ABX9TyPhAC2D5GaV+eCCypP3vdLB",
      "include_colab_link": true
    },
    "kernelspec": {
      "name": "python3",
      "display_name": "Python 3"
    },
    "language_info": {
      "name": "python"
    }
  },
  "cells": [
    {
      "cell_type": "markdown",
      "metadata": {
        "id": "view-in-github",
        "colab_type": "text"
      },
      "source": [
        "<a href=\"https://colab.research.google.com/github/djdbswjd2/2024-hightech/blob/main/MBTI_.ipynb\" target=\"_parent\"><img src=\"https://colab.research.google.com/assets/colab-badge.svg\" alt=\"Open In Colab\"/></a>"
      ]
    },
    {
      "cell_type": "code",
      "execution_count": 1,
      "metadata": {
        "colab": {
          "base_uri": "https://localhost:8080/"
        },
        "id": "3eaPBdg4DRms",
        "outputId": "3fa8f47d-5657-44ca-f4cd-d1a72e2a2f67"
      },
      "outputs": [
        {
          "output_type": "stream",
          "name": "stdout",
          "text": [
            "MBTI 성격유형검사\n",
            "각 문항에 대해 가장 적절한 답변을 선택해주세요.\n",
            "1: 전혀 그렇지 않다 / 2: 그렇지 않은 편이다 / 3: 보통이다 / 4: 그렇다 / 5: 매우 그렇다\n"
          ]
        }
      ],
      "source": [
        "print(\"MBTI 성격유형검사\")\n",
        "print(\"각 문항에 대해 가장 적절한 답변을 선택해주세요.\")\n",
        "print(\"1: 전혀 그렇지 않다 / 2: 그렇지 않은 편이다 / 3: 보통이다 / 4: 그렇다 / 5: 매우 그렇다\")\n",
        "\n",
        "questions = [\n",
        "    \"1. 대체로 사람들과 어울리는 것을 좋아한다.\",\n",
        "    \"2. 논쟁보다는 타협하는 것이 좋다고 생각한다.\",\n",
        "    \"3. 대개 계획을 세우는 것을 좋아한다.\",\n",
        "    \"4. 새로운 일에 도전하는 것을 좋아한다.\",\n",
        "    \"5. 감정을 드러내는 것보다는 이성적으로 생각하는 것이 좋다고 생각한다.\",\n",
        "    \"6. 대체로 조용한 분위기를 좋아한다.\",\n",
        "    \"7. 사람들과의 대화에서 자주 말하는 편이다.\",\n",
        "    \"8. 어떤 일을 할 때 체계적으로 처리하는 편이다.\",\n",
        "    \"9. 강한 경쟁심이 있다.\",\n",
        "    \"10. 주로 자신의 감정에 따라 일을 처리한다.\"\n",
        "]\n",
        "\n",
        "results = {\n",
        "    \"ISTJ\":[1, 2, 3, 8, 10],\n",
        "    \"ISFJ\":[1, 2, 3, 6, 10],\n",
        "    \"INFJ\":[2, 3, 5, 6, 10],\n",
        "    \"INTJ\":[3, 4, 5, 8, 10],\n",
        "    \"ISTP\":[4, 6, 7, 9, 10],\n",
        "    \"ISFP\":[4, 6, 7, 10],\n",
        "    \"INFP\":[2, 5, 6, 10],\n",
        "    \"INTP\":[3, 5, 6, 8, 10],\n",
        "    \"ESTP\":[4, 6, 7, 9],\n",
        "    \"ESFP\":[4, 6, 7],\n",
        "    \"ENFP\":[2, 5, 6],\n",
        "    \"ENTP\":[3, 5, 6, 9],\n",
        "    \"ESTJ\":[1, 2, 3, 8, 9],\n",
        "    \"ESFJ\":[1, 2, 3, 6, 9],\n",
        "    \"ENFJ\":[2, 3, 5, 6, 9],\n",
        "    \"ENTJ\":[3, 4, 5, 8, 9]\n",
        "}\n",
        "\n",
        "results_count = {result: 0 for result in results}"
      ]
    },
    {
      "cell_type": "code",
      "source": [
        "for i, question in enumerate(questions):\n",
        "  print(question)\n",
        "  while True:\n",
        "    try:\n",
        "      answer = int(input(\"답변을 입력해주세요: \"))\n",
        "      if answer < 1 or answer > 5:\n",
        "        print(\"1에서 5 사이의 값을 입력해 주세요.\")\n",
        "        continue\n",
        "      break\n",
        "    except ValueError:\n",
        "      print(\"숫자를 입력해주세요.\")\n",
        "\n",
        "for result, result_answers in results.items():\n",
        "  if i+1 in result_answers:\n",
        "    results_count[result] += answer\n",
        "\n",
        "max_result = max(results_count, key=results_count.get)\n",
        "print(f\"당신의 MBTI 성격유형은 {max_result}입니다.\")"
      ],
      "metadata": {
        "colab": {
          "base_uri": "https://localhost:8080/"
        },
        "id": "-slIccT7FRha",
        "outputId": "3ef98726-d706-4c5a-8d1d-d3942cbc7f6c"
      },
      "execution_count": 2,
      "outputs": [
        {
          "output_type": "stream",
          "name": "stdout",
          "text": [
            "1. 대체로 사람들과 어울리는 것을 좋아한다.\n",
            "답변을 입력해주세요: 3\n",
            "2. 논쟁보다는 타협하는 것이 좋다고 생각한다.\n",
            "답변을 입력해주세요: 4\n",
            "3. 대개 계획을 세우는 것을 좋아한다.\n",
            "답변을 입력해주세요: 3\n",
            "4. 새로운 일에 도전하는 것을 좋아한다.\n",
            "답변을 입력해주세요: 5\n",
            "5. 감정을 드러내는 것보다는 이성적으로 생각하는 것이 좋다고 생각한다.\n",
            "답변을 입력해주세요: 5\n",
            "6. 대체로 조용한 분위기를 좋아한다.\n",
            "답변을 입력해주세요: 4\n",
            "7. 사람들과의 대화에서 자주 말하는 편이다.\n",
            "답변을 입력해주세요: 2\n",
            "8. 어떤 일을 할 때 체계적으로 처리하는 편이다.\n",
            "답변을 입력해주세요: 3\n",
            "9. 강한 경쟁심이 있다.\n",
            "답변을 입력해주세요: 1\n",
            "10. 주로 자신의 감정에 따라 일을 처리한다.\n",
            "답변을 입력해주세요: 4\n",
            "당신의 MBTI 성격유형은 ISTJ입니다.\n"
          ]
        }
      ]
    }
  ]
}