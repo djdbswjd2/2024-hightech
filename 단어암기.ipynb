{
  "nbformat": 4,
  "nbformat_minor": 0,
  "metadata": {
    "colab": {
      "provenance": [],
      "authorship_tag": "ABX9TyOCzH2flTKzLpUmyQM5C5BG",
      "include_colab_link": true
    },
    "kernelspec": {
      "name": "python3",
      "display_name": "Python 3"
    },
    "language_info": {
      "name": "python"
    }
  },
  "cells": [
    {
      "cell_type": "markdown",
      "metadata": {
        "id": "view-in-github",
        "colab_type": "text"
      },
      "source": [
        "<a href=\"https://colab.research.google.com/github/djdbswjd2/2024-hightech/blob/main/%EB%8B%A8%EC%96%B4%EC%95%94%EA%B8%B0.ipynb\" target=\"_parent\"><img src=\"https://colab.research.google.com/assets/colab-badge.svg\" alt=\"Open In Colab\"/></a>"
      ]
    },
    {
      "cell_type": "markdown",
      "source": [
        "단어암기 프로그램"
      ],
      "metadata": {
        "id": "r729tNAoGBHr"
      }
    },
    {
      "cell_type": "code",
      "execution_count": 2,
      "metadata": {
        "colab": {
          "base_uri": "https://localhost:8080/"
        },
        "id": "qtlfQcNyBuD8",
        "outputId": "4785de44-f6a4-4584-fefa-58e8cf982674"
      },
      "outputs": [
        {
          "output_type": "stream",
          "name": "stdout",
          "text": [
            "banana의 뜻을 무엇일까요?바나나\n",
            "정답입니다!\n",
            "apple의 뜻을 무엇일까요?사과\n",
            "정답입니다!\n",
            "jacket의 뜻을 무엇일까요?재킷\n",
            "정답입니다!\n",
            "house의 뜻을 무엇일까요?집\n",
            "정답입니다!\n",
            "jacket의 뜻을 무엇일까요?재킷\n",
            "정답입니다!\n"
          ]
        }
      ],
      "source": [
        "import random\n",
        "\n",
        "dictionary = {\n",
        "    \"apple\": \"사과\",\n",
        "    \"banana\": \"바나나\",\n",
        "    \"carrot\": \"당근\",\n",
        "    \"dog\": \"개\",\n",
        "    \"elephant\": \"코끼리\",\n",
        "    \"flower\": \"꽃\",\n",
        "    \"guitar\": \"기타\",\n",
        "    \"house\": \"집\",\n",
        "    \"ice cream\": \"아이스크림\",\n",
        "    \"jacket\": \"재킷\"\n",
        "}\n",
        "\n",
        "def quiz():\n",
        "  word, meaning = random.choice(list(dictionary.items()))\n",
        "  answer = input(f\"{word}의 뜻을 무엇일까요?\")\n",
        "  if answer == meaning:\n",
        "    print(\"정답입니다!\")\n",
        "  else:\n",
        "    print(f\"틀렸습니다. 정답은 {meaning}입니다.\")\n",
        "if __name__ == \"__main__\":\n",
        "  for i in range(5):\n",
        "    quiz()"
      ]
    },
    {
      "cell_type": "markdown",
      "source": [
        "파일에서 읽어서 퀴즈를 내는 단어암기 프로그램(에러 뜸)"
      ],
      "metadata": {
        "id": "E5PZ5WScF7m7"
      }
    },
    {
      "cell_type": "code",
      "source": [
        "import random\n",
        "\n",
        "def load_words(filename):\n",
        "  words = {}\n",
        "  with open(filename, \"r\", encoding=\"utf-8\") as f:\n",
        "    for line in f:\n",
        "      word, meaning = line.strip().split(\":\")\n",
        "      words[word] = meaning\n",
        "  return words\n",
        "\n",
        "def quiz(words):\n",
        "  word_list = list(words.keys())\n",
        "  random.shuffle(word_list)\n",
        "  for word in word_list:\n",
        "    meaning = words[word]\n",
        "    answer = input(f\"{word}의 뜻은 무엇일까요?\")\n",
        "    if answer == meaning:\n",
        "      print(\"정답입니다!\")\n",
        "    else:\n",
        "      print(f\"틀렸습니다. 정답은 {meaning}입니다.\")\n",
        "\n",
        "if __name__ == \"__main__\":\n",
        "  filename = r\"/content/단어.txt\"\n",
        "  words = load_words(filename)\n",
        "  quiz(words)"
      ],
      "metadata": {
        "colab": {
          "base_uri": "https://localhost:8080/",
          "height": 329
        },
        "id": "YTVGEIHjDRwU",
        "outputId": "795a22e9-f150-47fe-ea8e-a462678c55e1"
      },
      "execution_count": 7,
      "outputs": [
        {
          "output_type": "error",
          "ename": "ValueError",
          "evalue": "not enough values to unpack (expected 2, got 1)",
          "traceback": [
            "\u001b[0;31m---------------------------------------------------------------------------\u001b[0m",
            "\u001b[0;31mValueError\u001b[0m                                Traceback (most recent call last)",
            "\u001b[0;32m<ipython-input-7-cc6dd575311f>\u001b[0m in \u001b[0;36m<cell line: 22>\u001b[0;34m()\u001b[0m\n\u001b[1;32m     22\u001b[0m \u001b[0;32mif\u001b[0m \u001b[0m__name__\u001b[0m \u001b[0;34m==\u001b[0m \u001b[0;34m\"__main__\"\u001b[0m\u001b[0;34m:\u001b[0m\u001b[0;34m\u001b[0m\u001b[0;34m\u001b[0m\u001b[0m\n\u001b[1;32m     23\u001b[0m   \u001b[0mfilename\u001b[0m \u001b[0;34m=\u001b[0m \u001b[0;34mr\"/content/단어.txt\"\u001b[0m\u001b[0;34m\u001b[0m\u001b[0;34m\u001b[0m\u001b[0m\n\u001b[0;32m---> 24\u001b[0;31m   \u001b[0mwords\u001b[0m \u001b[0;34m=\u001b[0m \u001b[0mload_words\u001b[0m\u001b[0;34m(\u001b[0m\u001b[0mfilename\u001b[0m\u001b[0;34m)\u001b[0m\u001b[0;34m\u001b[0m\u001b[0;34m\u001b[0m\u001b[0m\n\u001b[0m\u001b[1;32m     25\u001b[0m   \u001b[0mquiz\u001b[0m\u001b[0;34m(\u001b[0m\u001b[0mwords\u001b[0m\u001b[0;34m)\u001b[0m\u001b[0;34m\u001b[0m\u001b[0;34m\u001b[0m\u001b[0m\n",
            "\u001b[0;32m<ipython-input-7-cc6dd575311f>\u001b[0m in \u001b[0;36mload_words\u001b[0;34m(filename)\u001b[0m\n\u001b[1;32m      5\u001b[0m   \u001b[0;32mwith\u001b[0m \u001b[0mopen\u001b[0m\u001b[0;34m(\u001b[0m\u001b[0mfilename\u001b[0m\u001b[0;34m,\u001b[0m \u001b[0;34m\"r\"\u001b[0m\u001b[0;34m,\u001b[0m \u001b[0mencoding\u001b[0m\u001b[0;34m=\u001b[0m\u001b[0;34m\"utf-8\"\u001b[0m\u001b[0;34m)\u001b[0m \u001b[0;32mas\u001b[0m \u001b[0mf\u001b[0m\u001b[0;34m:\u001b[0m\u001b[0;34m\u001b[0m\u001b[0;34m\u001b[0m\u001b[0m\n\u001b[1;32m      6\u001b[0m     \u001b[0;32mfor\u001b[0m \u001b[0mline\u001b[0m \u001b[0;32min\u001b[0m \u001b[0mf\u001b[0m\u001b[0;34m:\u001b[0m\u001b[0;34m\u001b[0m\u001b[0;34m\u001b[0m\u001b[0m\n\u001b[0;32m----> 7\u001b[0;31m       \u001b[0mword\u001b[0m\u001b[0;34m,\u001b[0m \u001b[0mmeaning\u001b[0m \u001b[0;34m=\u001b[0m \u001b[0mline\u001b[0m\u001b[0;34m.\u001b[0m\u001b[0mstrip\u001b[0m\u001b[0;34m(\u001b[0m\u001b[0;34m)\u001b[0m\u001b[0;34m.\u001b[0m\u001b[0msplit\u001b[0m\u001b[0;34m(\u001b[0m\u001b[0;34m\":\"\u001b[0m\u001b[0;34m)\u001b[0m\u001b[0;34m\u001b[0m\u001b[0;34m\u001b[0m\u001b[0m\n\u001b[0m\u001b[1;32m      8\u001b[0m       \u001b[0mwords\u001b[0m\u001b[0;34m[\u001b[0m\u001b[0mword\u001b[0m\u001b[0;34m]\u001b[0m \u001b[0;34m=\u001b[0m \u001b[0mmeaning\u001b[0m\u001b[0;34m\u001b[0m\u001b[0;34m\u001b[0m\u001b[0m\n\u001b[1;32m      9\u001b[0m   \u001b[0;32mreturn\u001b[0m \u001b[0mwords\u001b[0m\u001b[0;34m\u001b[0m\u001b[0;34m\u001b[0m\u001b[0m\n",
            "\u001b[0;31mValueError\u001b[0m: not enough values to unpack (expected 2, got 1)"
          ]
        }
      ]
    }
  ]
}