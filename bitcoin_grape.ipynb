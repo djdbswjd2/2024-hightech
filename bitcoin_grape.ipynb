{
  "nbformat": 4,
  "nbformat_minor": 0,
  "metadata": {
    "colab": {
      "provenance": [],
      "authorship_tag": "ABX9TyNHvdgK11l0BxFPL1YG2iRO",
      "include_colab_link": true
    },
    "kernelspec": {
      "name": "python3",
      "display_name": "Python 3"
    },
    "language_info": {
      "name": "python"
    }
  },
  "cells": [
    {
      "cell_type": "markdown",
      "metadata": {
        "id": "view-in-github",
        "colab_type": "text"
      },
      "source": [
        "<a href=\"https://colab.research.google.com/github/djdbswjd2/2024-hightech/blob/main/bitcoin_grape.ipynb\" target=\"_parent\"><img src=\"https://colab.research.google.com/assets/colab-badge.svg\" alt=\"Open In Colab\"/></a>"
      ]
    },
    {
      "cell_type": "code",
      "execution_count": 1,
      "metadata": {
        "colab": {
          "base_uri": "https://localhost:8080/"
        },
        "id": "QSIPairqsDSy",
        "outputId": "6d08655c-5843-4d0b-dfff-6ae3cf8c8ff5"
      },
      "outputs": [
        {
          "output_type": "stream",
          "name": "stdout",
          "text": [
            "Collecting pyupbit\n",
            "  Downloading pyupbit-0.2.33-py3-none-any.whl (24 kB)\n",
            "Requirement already satisfied: pyjwt>=2.0.0 in /usr/lib/python3/dist-packages (from pyupbit) (2.3.0)\n",
            "Requirement already satisfied: pandas in /usr/local/lib/python3.10/dist-packages (from pyupbit) (2.0.3)\n",
            "Requirement already satisfied: requests in /usr/local/lib/python3.10/dist-packages (from pyupbit) (2.31.0)\n",
            "Collecting websockets (from pyupbit)\n",
            "  Downloading websockets-12.0-cp310-cp310-manylinux_2_5_x86_64.manylinux1_x86_64.manylinux_2_17_x86_64.manylinux2014_x86_64.whl (130 kB)\n",
            "\u001b[2K     \u001b[90m━━━━━━━━━━━━━━━━━━━━━━━━━━━━━━━━━━━━━━━━\u001b[0m \u001b[32m130.2/130.2 kB\u001b[0m \u001b[31m4.1 MB/s\u001b[0m eta \u001b[36m0:00:00\u001b[0m\n",
            "\u001b[?25hRequirement already satisfied: python-dateutil>=2.8.2 in /usr/local/lib/python3.10/dist-packages (from pandas->pyupbit) (2.8.2)\n",
            "Requirement already satisfied: pytz>=2020.1 in /usr/local/lib/python3.10/dist-packages (from pandas->pyupbit) (2023.4)\n",
            "Requirement already satisfied: tzdata>=2022.1 in /usr/local/lib/python3.10/dist-packages (from pandas->pyupbit) (2024.1)\n",
            "Requirement already satisfied: numpy>=1.21.0 in /usr/local/lib/python3.10/dist-packages (from pandas->pyupbit) (1.25.2)\n",
            "Requirement already satisfied: charset-normalizer<4,>=2 in /usr/local/lib/python3.10/dist-packages (from requests->pyupbit) (3.3.2)\n",
            "Requirement already satisfied: idna<4,>=2.5 in /usr/local/lib/python3.10/dist-packages (from requests->pyupbit) (3.6)\n",
            "Requirement already satisfied: urllib3<3,>=1.21.1 in /usr/local/lib/python3.10/dist-packages (from requests->pyupbit) (2.0.7)\n",
            "Requirement already satisfied: certifi>=2017.4.17 in /usr/local/lib/python3.10/dist-packages (from requests->pyupbit) (2024.2.2)\n",
            "Requirement already satisfied: six>=1.5 in /usr/local/lib/python3.10/dist-packages (from python-dateutil>=2.8.2->pandas->pyupbit) (1.16.0)\n",
            "Installing collected packages: websockets, pyupbit\n",
            "Successfully installed pyupbit-0.2.33 websockets-12.0\n"
          ]
        }
      ],
      "source": [
        "!pip install pyupbit"
      ]
    },
    {
      "cell_type": "code",
      "source": [
        "import pyupbit\n",
        "\n",
        "price = pyupbit.get_current_price(\"KRW-BTC\")\n",
        "\n",
        "print(\"현재 BTC/KRW의 가격은\", price, \"원입니다.\")"
      ],
      "metadata": {
        "colab": {
          "base_uri": "https://localhost:8080/"
        },
        "id": "M1rcRYBosKs7",
        "outputId": "f6f5d616-f372-457c-8a57-8ee12f43e11d"
      },
      "execution_count": 2,
      "outputs": [
        {
          "output_type": "stream",
          "name": "stdout",
          "text": [
            "현재 BTC/KRW의 가격은 91329000.0 원입니다.\n"
          ]
        }
      ]
    },
    {
      "cell_type": "code",
      "source": [
        "import pyupbit\n",
        "\n",
        "tickers = pyupbit.get_tickers()\n",
        "\n",
        "for ticker in tickers:\n",
        "  try:\n",
        "    price = pyupbit.get_current_price(ticker)\n",
        "    print(ticker, price)\n",
        "  except:\n",
        "    pass"
      ],
      "metadata": {
        "colab": {
          "base_uri": "https://localhost:8080/"
        },
        "id": "jHhGAKalseGr",
        "outputId": "e9d66af1-7fc8-4b5d-f702-2bea8041a97c"
      },
      "execution_count": 3,
      "outputs": [
        {
          "output_type": "stream",
          "name": "stdout",
          "text": [
            "KRW-BTC 91403000.0\n",
            "KRW-ETH 4462000.0\n",
            "BTC-ETH 0.04902024\n",
            "BTC-XRP 8.01e-06\n",
            "BTC-ETC 0.0004171\n",
            "BTC-CVC 2.6e-06\n",
            "BTC-DGB 2.1e-07\n",
            "BTC-SC 1.2e-07\n",
            "BTC-SNT 5.9e-07\n",
            "BTC-WAVES 4.22e-05\n",
            "BTC-NMR 0.00038076\n",
            "BTC-XEM 5.6e-07\n",
            "BTC-QTUM 5.986e-05\n",
            "BTC-BAT 3.82e-06\n",
            "BTC-LSK 2.27e-05\n",
            "BTC-STEEM 3.98e-06\n",
            "BTC-DOGE 2.39e-06\n",
            "BTC-BNT 1.132e-05\n",
            "BTC-XLM 1.73e-06\n",
            "BTC-ARDR 1.64e-06\n",
            "BTC-ARK 1.112e-05\n",
            "BTC-STORJ 8.37e-06\n",
            "BTC-GRS 8.25e-06\n",
            "BTC-RLC 3.86e-05\n",
            "USDT-BTC 61499.99999961\n",
            "USDT-ETH 2994.114\n",
            "USDT-XRP 0.49513725\n",
            "USDT-ETC 25.931\n",
            "KRW-NEO 25120.0\n",
            "KRW-MTL 2202.0\n",
            "KRW-XRP 735.9\n",
            "KRW-ETC 38130.0\n",
            "KRW-SNT 54.53\n",
            "KRW-WAVES 3840.0\n",
            "KRW-XEM 52.07\n",
            "KRW-QTUM 5520.0\n",
            "KRW-LSK 2134.0\n",
            "KRW-STEEM 364.8\n",
            "KRW-XLM 160.4\n",
            "KRW-ARDR 151.2\n",
            "KRW-ARK 1040.0\n",
            "KRW-STORJ 767.2\n",
            "KRW-GRS 759.8\n",
            "KRW-ADA 668.8\n",
            "BTC-ADA 7.32e-06\n",
            "BTC-MANA 6.99e-06\n",
            "KRW-SBD 5133.0\n",
            "BTC-SBD 5.478e-05\n",
            "KRW-POWR 420.5\n",
            "BTC-POWR 4.59e-06\n",
            "KRW-BTG 48340.0\n",
            "USDT-ADA 0.43750146\n",
            "BTC-DNT 9.1e-07\n",
            "BTC-ZRX 7.83e-06\n",
            "BTC-TRX 1.8e-06\n",
            "BTC-TUSD 1.589e-05\n",
            "BTC-LRC 4.07e-06\n",
            "KRW-ICX 336.6\n",
            "KRW-EOS 1094.0\n",
            "USDT-TUSD 0.97700006\n",
            "KRW-TRX 162.3\n",
            "BTC-POLYX 6.88e-06\n",
            "USDT-SC 0.00729993\n",
            "USDT-TRX 0.10863019\n",
            "KRW-SC 10.2\n",
            "KRW-ONT 429.8\n",
            "KRW-ZIL 35.19\n",
            "KRW-POLYX 635.0\n",
            "KRW-ZRX 725.8\n",
            "KRW-LOOM 112.5\n",
            "BTC-BCH 0.00771749\n",
            "USDT-BCH 463.31683151\n",
            "KRW-BCH 701500.0\n",
            "BTC-HIFI 1.279e-05\n",
            "BTC-LOOM 1.25e-06\n",
            "KRW-BAT 355.2\n",
            "KRW-IOST 13.3\n",
            "USDT-DGB 0.01206625\n",
            "KRW-CVC 236.2\n",
            "KRW-IQ 12.56\n",
            "KRW-IOTA 324.7\n",
            "BTC-RVN 4.6e-07\n",
            "BTC-GO 8e-08\n",
            "BTC-UPP 1.24e-06\n",
            "BTC-ENJ 5.21e-06\n",
            "KRW-HIFI 1179.0\n",
            "KRW-ONG 675.6\n",
            "KRW-GAS 7481.0\n",
            "BTC-MTL 2.354e-05\n",
            "KRW-UPP 112.6\n",
            "KRW-ELF 820.3\n",
            "USDT-DOGE 0.14362032\n",
            "USDT-ZRX 0.46533079\n",
            "USDT-RVN 0.02700553\n",
            "USDT-BAT 0.22514935\n",
            "KRW-KNC 840.3\n",
            "BTC-MOC 1.47e-06\n",
            "BTC-ZIL 3.8e-07\n",
            "KRW-BSV 97200.0\n",
            "BTC-BSV 0.00106707\n",
            "BTC-IOST 1.4e-07\n",
            "KRW-THETA 2997.0\n",
            "BTC-DENT 2e-08\n",
            "KRW-QKC 16.85\n",
            "BTC-ELF 8.99e-06\n",
            "KRW-BTT 0.001847\n",
            "BTC-IOTX 8.4e-07\n",
            "BTC-SOLVE 3.3e-07\n",
            "BTC-NKN 1.94e-06\n",
            "BTC-META 6.1e-07\n",
            "KRW-MOC 134.8\n",
            "BTC-ANKR 6.9e-07\n",
            "BTC-CRO 1.99e-06\n",
            "KRW-TFUEL 124.1\n",
            "KRW-MANA 635.8\n",
            "KRW-ANKR 64.25\n",
            "BTC-ORBS 5.8e-07\n",
            "BTC-AERGO 2.16e-06\n",
            "KRW-AERGO 199.6\n",
            "KRW-ATOM 12130.0\n",
            "KRW-TT 6.494\n",
            "KRW-CRE 8.58\n",
            "BTC-ATOM 0.00013088\n",
            "BTC-STPT 8.1e-07\n",
            "KRW-MBL 6.235\n",
            "BTC-EOS 1.2e-05\n",
            "BTC-DAI 1.614e-05\n",
            "BTC-MKR 0.05136531\n",
            "BTC-BORA 2.42e-06\n",
            "KRW-WAXP 94.61\n",
            "BTC-WAXP 1.02e-06\n",
            "KRW-HBAR 118.5\n",
            "KRW-MED 17.86\n",
            "BTC-MED 2e-07\n",
            "BTC-MLK 5.12e-06\n",
            "KRW-MLK 460.5\n",
            "KRW-STPT 77.18\n",
            "BTC-VET 6.3e-07\n",
            "KRW-ORBS 53.16\n",
            "BTC-CHZ 1.84e-06\n",
            "KRW-VET 56.64\n",
            "BTC-FX 2.32e-06\n",
            "BTC-OGN 2.43e-06\n",
            "KRW-CHZ 168.4\n",
            "BTC-XTZ 1.534e-05\n",
            "BTC-HIVE 5.08e-06\n",
            "BTC-HBD 1.58e-05\n",
            "BTC-OBSR 3e-08\n",
            "BTC-DKA 4.8e-07\n",
            "KRW-STMX 10.39\n",
            "BTC-STMX 1.2e-07\n",
            "BTC-AHT 1.1e-07\n",
            "KRW-DKA 44.69\n",
            "BTC-LINK 0.00021135\n",
            "KRW-HIVE 457.3\n",
            "KRW-KAVA 962.1\n",
            "BTC-KAVA 1.054e-05\n",
            "KRW-AHT 10.12\n",
            "KRW-LINK 19600.0\n",
            "KRW-XTZ 1418.0\n",
            "KRW-BORA 221.8\n",
            "BTC-JST 5.1e-07\n",
            "BTC-CHR 4.87e-06\n",
            "BTC-DAD 1.4e-07\n",
            "BTC-TON 3.191e-05\n",
            "KRW-JST 46.98\n",
            "BTC-CTSI 3.08e-06\n",
            "BTC-DOT 0.00010933\n",
            "KRW-CRO 180.3\n",
            "BTC-COMP 0.00084416\n",
            "BTC-SXP 5.21e-06\n",
            "BTC-HUNT 6.47e-06\n",
            "KRW-TON 2938.0\n",
            "BTC-ONIT 6.7e-07\n",
            "BTC-CRV 6.93e-06\n",
            "BTC-ALGO 2.76e-06\n",
            "BTC-RSR 1e-07\n",
            "KRW-SXP 487.0\n",
            "BTC-OXT 1.7e-06\n",
            "KRW-HUNT 577.5\n",
            "BTC-SAND 6.95e-06\n",
            "BTC-SUN 2.1e-07\n",
            "KRW-DOT 9840.0\n",
            "BTC-QTCON 3e-08\n",
            "BTC-MVL 9e-08\n",
            "KRW-MVL 7.471\n",
            "BTC-REI 1.11e-06\n",
            "BTC-AQT 2.037e-05\n",
            "BTC-AXS 0.00011158\n",
            "BTC-STRAX 1.35e-06\n",
            "KRW-STRAX 120.1\n",
            "KRW-AQT 1879.0\n",
            "BTC-GLM 5.6e-06\n",
            "KRW-GLM 525.1\n",
            "BTC-FCT2 8.4e-07\n",
            "KRW-META 54.85\n",
            "KRW-FCT2 78.52\n",
            "BTC-FIL 9.594e-05\n",
            "BTC-UNI 0.00011379\n",
            "BTC-INJ 0.00042287\n",
            "BTC-PROM 0.00015146\n",
            "BTC-VAL 2.792e-05\n",
            "BTC-PSG 7.156e-05\n",
            "BTC-JUV 4.299e-05\n",
            "BTC-CBK 1.2e-05\n",
            "BTC-FOR 3.3e-07\n",
            "KRW-CBK 1113.0\n",
            "BTC-BFC 1.09e-06\n",
            "BTC-HPO 1.19e-06\n",
            "BTC-CELO 1.285e-05\n",
            "KRW-SAND 639.9\n",
            "KRW-HPO 112.3\n",
            "BTC-IQ 1.4e-07\n",
            "BTC-STX 3.801e-05\n",
            "KRW-DOGE 219.1\n",
            "BTC-NEAR 8.786e-05\n",
            "BTC-AUCTION 0.0002543\n",
            "BTC-FLOW 1.365e-05\n",
            "BTC-STRIKE 0.00017002\n",
            "KRW-STRIKE 15740.0\n",
            "BTC-PUNDIX 8.58e-06\n",
            "KRW-PUNDIX 792.1\n",
            "KRW-FLOW 1271.0\n",
            "KRW-AXS 10350.0\n",
            "KRW-STX 3400.0\n",
            "BTC-GRT 3.97e-06\n",
            "BTC-SNX 4.549e-05\n",
            "BTC-USDP 1.602e-05\n",
            "KRW-XEC 0.07361\n",
            "KRW-SOL 198500.0\n",
            "BTC-SOL 0.00218104\n",
            "KRW-MATIC 995.7\n",
            "BTC-MATIC 1.096e-05\n",
            "KRW-AAVE 124900.0\n",
            "KRW-1INCH 570.5\n",
            "BTC-AAVE 0.00135458\n",
            "BTC-1INCH 6.1e-06\n",
            "BTC-MASK 5.272e-05\n",
            "KRW-ALGO 250.2\n",
            "BTC-AUDIO 2.88e-06\n",
            "KRW-NEAR 8158.0\n",
            "BTC-YGG 1.328e-05\n",
            "BTC-GTC 1.896e-05\n",
            "BTC-OCEAN 1.365e-05\n",
            "BTC-CTC 1.092e-05\n",
            "BTC-LPT 0.00019025\n",
            "KRW-AVAX 50900.0\n",
            "BTC-AVAX 0.00056039\n",
            "BTC-IMX 3.033e-05\n",
            "BTC-RNDR 0.00012719\n",
            "BTC-RLY 1.9e-07\n",
            "KRW-T 48.53\n",
            "BTC-T 5.2e-07\n",
            "KRW-CELO 1159.0\n",
            "BTC-RAD 2.797e-05\n",
            "BTC-AGLD 1.762e-05\n",
            "BTC-API3 3.63e-05\n",
            "BTC-ARPA 1.11e-06\n",
            "BTC-ENS 0.00021601\n",
            "KRW-GMT 343.8\n",
            "BTC-GMT 3.8e-06\n",
            "BTC-APE 1.966e-05\n",
            "BTC-RAY 2.37e-05\n",
            "KRW-APT 13550.0\n",
            "BTC-APT 0.00014897\n",
            "BTC-ACM 3.79e-05\n",
            "BTC-AFC 2.457e-05\n",
            "BTC-ATM 5.11e-05\n",
            "BTC-BAR 4.695e-05\n",
            "BTC-CITY 5.374e-05\n",
            "BTC-INTER 3.728e-05\n",
            "BTC-NAP 3.658e-05\n",
            "KRW-SHIB 0.03261\n",
            "BTC-GAL 5.654e-05\n",
            "BTC-ASTR 1.6e-06\n",
            "BTC-BLUR 6.34e-06\n",
            "KRW-MASK 4850.0\n",
            "BTC-ACS 4e-08\n",
            "BTC-MAGIC 1.223e-05\n",
            "KRW-ARB 1679.0\n",
            "BTC-ARB 1.836e-05\n",
            "KRW-EGLD 59450.0\n",
            "BTC-EGLD 0.00063272\n",
            "KRW-SUI 1882.0\n",
            "BTC-SUI 2.106e-05\n",
            "KRW-GRT 361.0\n",
            "KRW-BLUR 560.0\n",
            "BTC-MINA 1.243e-05\n",
            "KRW-IMX 2820.0\n",
            "BTC-STG 8.25e-06\n",
            "BTC-SEI 8.25e-06\n",
            "KRW-SEI 749.5\n",
            "BTC-CYBER 0.00013523\n",
            "BTC-GLMR 4.85e-06\n",
            "KRW-MINA 1146.0\n",
            "BTC-ID 1.16e-05\n",
            "BTC-AXL 1.899e-05\n",
            "KRW-CTC 996.1\n",
            "KRW-ASTR 144.5\n",
            "BTC-SPURS 4.574e-05\n",
            "KRW-ID 1054.0\n",
            "KRW-PYTH 852.3\n",
            "BTC-PYTH 9.45e-06\n",
            "BTC-ALT 6.03e-06\n",
            "BTC-POKT 2.38e-06\n",
            "USDT-POKT 0.12200301\n",
            "KRW-MNT 1689.0\n",
            "BTC-MNT 1.85e-05\n",
            "USDT-MNT 1.14\n"
          ]
        }
      ]
    },
    {
      "cell_type": "code",
      "source": [
        "!pip install pandas"
      ],
      "metadata": {
        "colab": {
          "base_uri": "https://localhost:8080/"
        },
        "id": "59UJKOnHsvBD",
        "outputId": "7ac75571-5d51-4d9b-8ebd-a28da32ba767"
      },
      "execution_count": 4,
      "outputs": [
        {
          "output_type": "stream",
          "name": "stdout",
          "text": [
            "Requirement already satisfied: pandas in /usr/local/lib/python3.10/dist-packages (2.0.3)\n",
            "Requirement already satisfied: python-dateutil>=2.8.2 in /usr/local/lib/python3.10/dist-packages (from pandas) (2.8.2)\n",
            "Requirement already satisfied: pytz>=2020.1 in /usr/local/lib/python3.10/dist-packages (from pandas) (2023.4)\n",
            "Requirement already satisfied: tzdata>=2022.1 in /usr/local/lib/python3.10/dist-packages (from pandas) (2024.1)\n",
            "Requirement already satisfied: numpy>=1.21.0 in /usr/local/lib/python3.10/dist-packages (from pandas) (1.25.2)\n",
            "Requirement already satisfied: six>=1.5 in /usr/local/lib/python3.10/dist-packages (from python-dateutil>=2.8.2->pandas) (1.16.0)\n"
          ]
        }
      ]
    },
    {
      "cell_type": "code",
      "source": [
        "!pip install matplotlib"
      ],
      "metadata": {
        "colab": {
          "base_uri": "https://localhost:8080/"
        },
        "id": "dNlfGxaOt7r8",
        "outputId": "83bbeb24-c184-4402-c0e0-30efb549dd0e"
      },
      "execution_count": 5,
      "outputs": [
        {
          "output_type": "stream",
          "name": "stdout",
          "text": [
            "Requirement already satisfied: matplotlib in /usr/local/lib/python3.10/dist-packages (3.7.1)\n",
            "Requirement already satisfied: contourpy>=1.0.1 in /usr/local/lib/python3.10/dist-packages (from matplotlib) (1.2.1)\n",
            "Requirement already satisfied: cycler>=0.10 in /usr/local/lib/python3.10/dist-packages (from matplotlib) (0.12.1)\n",
            "Requirement already satisfied: fonttools>=4.22.0 in /usr/local/lib/python3.10/dist-packages (from matplotlib) (4.51.0)\n",
            "Requirement already satisfied: kiwisolver>=1.0.1 in /usr/local/lib/python3.10/dist-packages (from matplotlib) (1.4.5)\n",
            "Requirement already satisfied: numpy>=1.20 in /usr/local/lib/python3.10/dist-packages (from matplotlib) (1.25.2)\n",
            "Requirement already satisfied: packaging>=20.0 in /usr/local/lib/python3.10/dist-packages (from matplotlib) (24.0)\n",
            "Requirement already satisfied: pillow>=6.2.0 in /usr/local/lib/python3.10/dist-packages (from matplotlib) (9.4.0)\n",
            "Requirement already satisfied: pyparsing>=2.3.1 in /usr/local/lib/python3.10/dist-packages (from matplotlib) (3.1.2)\n",
            "Requirement already satisfied: python-dateutil>=2.7 in /usr/local/lib/python3.10/dist-packages (from matplotlib) (2.8.2)\n",
            "Requirement already satisfied: six>=1.5 in /usr/local/lib/python3.10/dist-packages (from python-dateutil>=2.7->matplotlib) (1.16.0)\n"
          ]
        }
      ]
    },
    {
      "cell_type": "code",
      "source": [
        "import pyupbit\n",
        "import pandas as pd\n",
        "import matplotlib.pyplot as plt\n",
        "from datetime import datetime, timedelta\n",
        "\n",
        "to_date = datetime.now()\n",
        "from_date = to_date - timedelta(days=365)\n",
        "\n",
        "df = pyupbit.get_ohlcv(\"KRW-BTC\", interval=\"day\", to=to_date, count=365)\n"
      ],
      "metadata": {
        "id": "7CQS00oit_v4"
      },
      "execution_count": 8,
      "outputs": []
    },
    {
      "cell_type": "code",
      "source": [
        "x_values = pd.date_range(start=from_date, end=to_date - timedelta(days=1), freq='D')\n",
        "\n",
        "plt.plot(x_values, df['close'])\n",
        "\n",
        "plt.title('Bitcoin Price in KRW (1 year)')\n",
        "plt.xlabel('Date')\n",
        "plt.ylabel('Price (KRW)')\n",
        "\n",
        "plt.xticks(rotation=45)\n",
        "\n",
        "plt.show()"
      ],
      "metadata": {
        "colab": {
          "base_uri": "https://localhost:8080/",
          "height": 508
        },
        "id": "FmdM_IpOupD0",
        "outputId": "2cb86582-4606-4501-c031-45f4dfdfbf3d"
      },
      "execution_count": 9,
      "outputs": [
        {
          "output_type": "display_data",
          "data": {
            "text/plain": [
              "<Figure size 640x480 with 1 Axes>"
            ],
            "image/png": "[encoded data removed]"
          },
          "metadata": {}
        }
      ]
    }
  ]
}