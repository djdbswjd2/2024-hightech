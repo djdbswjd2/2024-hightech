{
  "nbformat": 4,
  "nbformat_minor": 0,
  "metadata": {
    "colab": {
      "provenance": [],
      "authorship_tag": "ABX9TyOGcrQiJ+PzdTBEoU5GR3x3",
      "include_colab_link": true
    },
    "kernelspec": {
      "name": "python3",
      "display_name": "Python 3"
    },
    "language_info": {
      "name": "python"
    }
  },
  "cells": [
    {
      "cell_type": "markdown",
      "metadata": {
        "id": "view-in-github",
        "colab_type": "text"
      },
      "source": [
        "<a href=\"https://colab.research.google.com/github/djdbswjd2/2024-hightech/blob/main/suggestion_food.ipynb\" target=\"_parent\"><img src=\"https://colab.research.google.com/assets/colab-badge.svg\" alt=\"Open In Colab\"/></a>"
      ]
    },
    {
      "cell_type": "markdown",
      "source": [
        "음식추천 프로그램"
      ],
      "metadata": {
        "id": "LWx65V8W_7V0"
      }
    },
    {
      "cell_type": "code",
      "execution_count": 4,
      "metadata": {
        "colab": {
          "base_uri": "https://localhost:8080/"
        },
        "id": "na0A3bvQ82Sz",
        "outputId": "63096999-e657-4dec-a61c-63887ba5fabd"
      },
      "outputs": [
        {
          "output_type": "stream",
          "name": "stdout",
          "text": [
            "좋아하는 음식을 입력하세요: 한식\n",
            "추천하는 음식은 비빔밥 입니다!\n"
          ]
        }
      ],
      "source": [
        "import random\n",
        "\n",
        "favorite_food = input(\"좋아하는 음식을 입력하세요: \")\n",
        "\n",
        "if favorite_food ==\"한식\":\n",
        "  food_list = [\"비빔밥\", \"불고기\", \"갈비탕\", \"된장찌개\", \"김치찌개\"]\n",
        "elif favorite_food == \"중식\":\n",
        "  food_list = [\"짜장면\", \"짬뽕\", \"탕수육\", \"양장피\", \"마파두부\"]\n",
        "elif favorite_food ==\"일식\":\n",
        "  food_list = [\"초밥\", \"라멘\", \"우동\", \"덮밥\", \"회\"]\n",
        "else:\n",
        "  food_list = [\"피자\", \"파스타\", \"햄버거\", \"치킨\", \"샐러드\"]\n",
        "\n",
        "recommended_food = random.choice(food_list)\n",
        "\n",
        "print(\"추천하는 음식은\", recommended_food, \"입니다!\")"
      ]
    },
    {
      "cell_type": "markdown",
      "source": [
        "기분에 따르는 음식추천 프로그램"
      ],
      "metadata": {
        "id": "TL9hlOsCAIma"
      }
    },
    {
      "cell_type": "code",
      "source": [
        "import random\n",
        "\n",
        "mood = input(\"오늘 기분은 어떠세요? (기쁨, 슬픔, 화남, 지침, 무기력)\")\n",
        "\n",
        "if mood == \"기쁨\":\n",
        "  food_list = [\"아이스크림\", \"케이크\", \"파이\", \"초콜릿\", \"딸기\"]\n",
        "elif mood == \"슬픔\":\n",
        "  food_list = [\"치즈케이크\", \"초콜릿케이크\", \"아이스크림\", \" 초콜릿\", \"커피\"]\n",
        "elif mood == \"화남\":\n",
        "  food_list = [\"매운 음식\", \"떡볶이\",\"김치찌개\", \"된장찌개\", \"라면\"]\n",
        "elif mood == \"지침\":\n",
        "  food_list == [\"보양식\", \"감자탕\", \"삼계탕\", \"영양밥\",\"비빔밥\"]\n",
        "else:\n",
        "  food_list == [\"샐러드\", \"스무디\", \"과일\", \"토스트\",\"샌드위치\"]\n",
        "\n",
        "recommended_food = random.choice(food_list)\n",
        "\n",
        "print(\"오늘 기분에 따라 추천하는 음식은\", recommended_food, \"입니다!\")"
      ],
      "metadata": {
        "colab": {
          "base_uri": "https://localhost:8080/"
        },
        "id": "O8sQaA-s9a3i",
        "outputId": "2c9f859f-7555-4ae8-d61c-4eb97acfdddc"
      },
      "execution_count": 6,
      "outputs": [
        {
          "output_type": "stream",
          "name": "stdout",
          "text": [
            "오늘 기분은 어떠세요? (기쁨, 슬픔, 화남, 지침, 무기력)무기력\n",
            "오늘 기분에 따라 추천하는 음식은 비빔밥 입니다!\n"
          ]
        }
      ]
    }
  ]
}