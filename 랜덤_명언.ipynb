{
  "nbformat": 4,
  "nbformat_minor": 0,
  "metadata": {
    "colab": {
      "provenance": [],
      "authorship_tag": "ABX9TyOOGmGSh/TDF+WiISAlf/nv",
      "include_colab_link": true
    },
    "kernelspec": {
      "name": "python3",
      "display_name": "Python 3"
    },
    "language_info": {
      "name": "python"
    }
  },
  "cells": [
    {
      "cell_type": "markdown",
      "metadata": {
        "id": "view-in-github",
        "colab_type": "text"
      },
      "source": [
        "<a href=\"https://colab.research.google.com/github/djdbswjd2/2024-hightech/blob/main/%EB%9E%9C%EB%8D%A4_%EB%AA%85%EC%96%B8.ipynb\" target=\"_parent\"><img src=\"https://colab.research.google.com/assets/colab-badge.svg\" alt=\"Open In Colab\"/></a>"
      ]
    },
    {
      "cell_type": "code",
      "execution_count": 5,
      "metadata": {
        "colab": {
          "base_uri": "https://localhost:8080/"
        },
        "id": "QO7ttg2VGZG3",
        "outputId": "03f5f450-3396-4a3f-84f7-198290cd7ab5"
      },
      "outputs": [
        {
          "output_type": "stream",
          "name": "stdout",
          "text": [
            "Collecting win10toast\n",
            "  Using cached win10toast-0.9-py2.py3-none-any.whl (21 kB)\n",
            "Collecting pypiwin32 (from win10toast)\n",
            "  Using cached pypiwin32-223-py3-none-any.whl (1.7 kB)\n",
            "Requirement already satisfied: setuptools in /usr/local/lib/python3.10/dist-packages (from win10toast) (67.7.2)\n",
            "INFO: pip is looking at multiple versions of pypiwin32 to determine which version is compatible with other requirements. This could take a while.\n",
            "  Using cached pypiwin32-219.zip (4.8 MB)\n",
            "  \u001b[1;31merror\u001b[0m: \u001b[1msubprocess-exited-with-error\u001b[0m\n",
            "  \n",
            "  \u001b[31m×\u001b[0m \u001b[32mpython setup.py egg_info\u001b[0m did not run successfully.\n",
            "  \u001b[31m│\u001b[0m exit code: \u001b[1;36m1\u001b[0m\n",
            "  \u001b[31m╰─>\u001b[0m See above for output.\n",
            "  \n",
            "  \u001b[1;35mnote\u001b[0m: This error originates from a subprocess, and is likely not a problem with pip.\n",
            "  Preparing metadata (setup.py) ... \u001b[?25l\u001b[?25herror\n",
            "\u001b[1;31merror\u001b[0m: \u001b[1mmetadata-generation-failed\u001b[0m\n",
            "\n",
            "\u001b[31m×\u001b[0m Encountered error while generating package metadata.\n",
            "\u001b[31m╰─>\u001b[0m See above for output.\n",
            "\n",
            "\u001b[1;35mnote\u001b[0m: This is an issue with the package mentioned above, not pip.\n",
            "\u001b[1;36mhint\u001b[0m: See above for details.\n"
          ]
        }
      ],
      "source": [
        "!pip install win10toast"
      ]
    },
    {
      "cell_type": "code",
      "source": [
        "import random\n",
        "import time\n",
        "\n",
        "sayings = [\n",
        "    \"노력하는 것만이 성공으로 이끄는 길이다. -니키 라우드\",\n",
        "    \"삶이 있는 한 희망은 있다. - 키케로\",\n",
        "    \"오늘을 낭비하지 마라. 어제의 후회와 내일의 불안에 가로막혀 오늘을 놓치고 있다. - 에머슨\",\n",
        "    \"문제점을 찾지 말고 해결책을 찾으라. - 헨리 포드\",\n",
        "    \"사람은 자신이 믿는 대로 된다. - 괴테\",\n",
        "    \"지식은 인생을 바꾼다. - 윌리엄 제임스\",\n",
        "    \"지금까지 당신이 살아온 모든 날들의 합이 오늘이라면, 오늘 하루를 잘 살아야 합니다. - 괴테\",\n",
        "    \"한번의 실패와 영원한 실패를 혼동하지 마라. - F.스콧 핏제랄드\",\n",
        "    \"당신이 할 수 있다고 믿는 할 수 없다고 믿든 믿는 대로 될 것이다. - 헨리 포드\",\n",
        "    \"성공한 사람을 보면 마치 그들이 실패한 적이 없는 것처럼 보이지만, 많은 실패들을 겪고 다시 일어난 것이다. - 월트 디즈니\",\n",
        "]\n",
        "\n",
        "saying = random.choice(sayings)\n",
        "print(saying)\n",
        "\n",
        "time.sleep(10)"
      ],
      "metadata": {
        "colab": {
          "base_uri": "https://localhost:8080/"
        },
        "id": "5-06DUg1GjGp",
        "outputId": "2a6de8b9-92c3-4658-b3ba-cb2076c3c88e"
      },
      "execution_count": 2,
      "outputs": [
        {
          "output_type": "stream",
          "name": "stdout",
          "text": [
            "문제점을 찾지 말고 해결책을 찾으라. - 헨리 포드\n"
          ]
        }
      ]
    },
    {
      "cell_type": "markdown",
      "source": [
        "아래는 에러 뜸."
      ],
      "metadata": {
        "id": "MSfZ9x8XISh5"
      }
    },
    {
      "cell_type": "code",
      "source": [
        "import random\n",
        "import time\n",
        "from win10toast\n",
        "import ToastNotifier\n",
        "\n",
        "toaster = ToastNotifier()\n",
        "\n",
        "sayings = [\n",
        "    \"노력하는 것만이 성공으로 이끄는 길이다. -니키 라우드\",\n",
        "    \"삶이 있는 한 희망은 있다. - 키케로\",\n",
        "    \"오늘을 낭비하지 마라. 어제의 후회와 내일의 불안에 가로막혀 오늘을 놓치고 있다. - 에머슨\",\n",
        "    \"문제점을 찾지 말고 해결책을 찾으라. - 헨리 포드\",\n",
        "    \"사람은 자신이 믿는 대로 된다. - 괴테\",\n",
        "    \"지식은 인생을 바꾼다. - 윌리엄 제임스\",\n",
        "    \"지금까지 당신이 살아온 모든 날들의 합이 오늘이라면, 오늘 하루를 잘 살아야 합니다. - 괴테\",\n",
        "    \"한번의 실패와 영원한 실패를 혼동하지 마라. - F.스콧 핏제랄드\",\n",
        "    \"당신이 할 수 있다고 믿는 할 수 없다고 믿든 믿는 대로 될 것이다. - 헨리 포드\",\n",
        "    \"성공한 사람을 보면 마치 그들이 실패한 적이 없는 것처럼 보이지만, 많은 실패들을 겪고 다시 일어난 것이다. - 월트 디즈니\",\n",
        "]\n",
        "\n",
        "while True:\n",
        "  saying = random.choice(sayings)\n",
        "\n",
        "  toaster.show_toast(\n",
        "      \"명언 알림\",\n",
        "      saying,\n",
        "      duration=10,\n",
        "      threaded=True\n",
        "  )\n",
        "\n",
        "  time.sleep(60 * 60)"
      ],
      "metadata": {
        "colab": {
          "base_uri": "https://localhost:8080/",
          "height": 110
        },
        "id": "_b96DUnMHkdZ",
        "outputId": "1110f50b-3cb8-4a97-c5c8-59a65f65d739"
      },
      "execution_count": 7,
      "outputs": [
        {
          "output_type": "error",
          "ename": "SyntaxError",
          "evalue": "invalid syntax (<ipython-input-7-5f547378b2b2>, line 3)",
          "traceback": [
            "\u001b[0;36m  File \u001b[0;32m\"<ipython-input-7-5f547378b2b2>\"\u001b[0;36m, line \u001b[0;32m3\u001b[0m\n\u001b[0;31m    from win10toast\u001b[0m\n\u001b[0m                   ^\u001b[0m\n\u001b[0;31mSyntaxError\u001b[0m\u001b[0;31m:\u001b[0m invalid syntax\n"
          ]
        }
      ]
    }
  ]
}